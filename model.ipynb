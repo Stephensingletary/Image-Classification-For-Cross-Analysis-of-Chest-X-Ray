{
 "cells": [
  {
   "cell_type": "code",
   "execution_count": 1,
   "metadata": {},
   "outputs": [],
   "source": [
    "import tensorflow as tf\n",
    "from tensorflow.keras import layers, models\n",
    "import numpy as np\n",
    "import pandas as pd\n",
    "import matplotlib.pyplot as plt\n",
    "import os\n",
    "from tensorflow.keras.preprocessing.image import load_img, img_to_array"
   ]
  },
  {
   "cell_type": "code",
   "execution_count": 2,
   "metadata": {},
   "outputs": [
    {
     "name": "stdout",
     "output_type": "stream",
     "text": [
      "CSV data loaded successfully!\n",
      "        Image Index                                     Finding Labels  \\\n",
      "0  00000013_005.png  ['Emphysema', 'Infiltration', 'Pleural_Thicken...   \n",
      "1  00000013_026.png                      ['Cardiomegaly', 'Emphysema']   \n",
      "2  00000017_001.png                                     ['No Finding']   \n",
      "3  00000030_001.png                                    ['Atelectasis']   \n",
      "4  00000032_001.png              ['Cardiomegaly', 'Edema', 'Effusion']   \n",
      "\n",
      "   Follow-up #  Patient ID  Patient Age  Patient Gender  View Position  \\\n",
      "0          5.0        13.0         60.0               1              0   \n",
      "1         26.0        13.0         57.0               1              0   \n",
      "2          1.0        17.0         77.0               1              0   \n",
      "3          1.0        30.0         79.0               1              1   \n",
      "4          1.0        32.0         55.0               0              0   \n",
      "\n",
      "   OriginalImageWidth  OriginalImageHeight  OriginalImagePixelSpacing_x  ...  \\\n",
      "0              3056.0               2544.0                        0.139  ...   \n",
      "1              2500.0               2048.0                        0.168  ...   \n",
      "2              2500.0               2048.0                        0.168  ...   \n",
      "3              2992.0               2991.0                        0.143  ...   \n",
      "4              2500.0               2048.0                        0.168  ...   \n",
      "\n",
      "   Emphysema  Fibrosis  Hernia  Infiltration  Mass  No Finding  Nodule  \\\n",
      "0        1.0       0.0     0.0           1.0   0.0         0.0     0.0   \n",
      "1        1.0       0.0     0.0           0.0   0.0         0.0     0.0   \n",
      "2        0.0       0.0     0.0           0.0   0.0         1.0     0.0   \n",
      "3        0.0       0.0     0.0           0.0   0.0         0.0     0.0   \n",
      "4        0.0       0.0     0.0           0.0   0.0         0.0     0.0   \n",
      "\n",
      "   Pleural_Thickening  Pneumonia  Pneumothorax  \n",
      "0                 1.0        0.0           1.0  \n",
      "1                 0.0        0.0           0.0  \n",
      "2                 0.0        0.0           0.0  \n",
      "3                 0.0        0.0           0.0  \n",
      "4                 0.0        0.0           0.0  \n",
      "\n",
      "[5 rows x 26 columns]\n"
     ]
    }
   ],
   "source": [
    "# Path to your CSV file and image directory\n",
    "csv_path = 'Resources/sample_labels_cleaned.csv'\n",
    "image_folder_path = 'Images'\n",
    "\n",
    "# Step 1: Load the CSV file\n",
    "data = pd.read_csv(csv_path)\n",
    "print(\"CSV data loaded successfully!\")\n",
    "\n",
    "# Display the first few rows of the dataframe to verify\n",
    "print(data.head())\n",
    "\n"
   ]
  },
  {
   "cell_type": "code",
   "execution_count": 3,
   "metadata": {},
   "outputs": [
    {
     "name": "stdout",
     "output_type": "stream",
     "text": [
      "<class 'pandas.core.frame.DataFrame'>\n",
      "RangeIndex: 5604 entries, 0 to 5603\n",
      "Data columns (total 26 columns):\n",
      " #   Column                       Non-Null Count  Dtype  \n",
      "---  ------                       --------------  -----  \n",
      " 0   Image Index                  5604 non-null   object \n",
      " 1   Finding Labels               5604 non-null   object \n",
      " 2   Follow-up #                  5604 non-null   float64\n",
      " 3   Patient ID                   5604 non-null   float64\n",
      " 4   Patient Age                  5604 non-null   float64\n",
      " 5   Patient Gender               5604 non-null   int64  \n",
      " 6   View Position                5604 non-null   int64  \n",
      " 7   OriginalImageWidth           5604 non-null   float64\n",
      " 8   OriginalImageHeight          5604 non-null   float64\n",
      " 9   OriginalImagePixelSpacing_x  5604 non-null   float64\n",
      " 10  OriginalImagePixelSpacing_y  5604 non-null   float64\n",
      " 11  Atelectasis                  5604 non-null   float64\n",
      " 12  Cardiomegaly                 5604 non-null   float64\n",
      " 13  Consolidation                5604 non-null   float64\n",
      " 14  Edema                        5604 non-null   float64\n",
      " 15  Effusion                     5604 non-null   float64\n",
      " 16  Emphysema                    5604 non-null   float64\n",
      " 17  Fibrosis                     5604 non-null   float64\n",
      " 18  Hernia                       5604 non-null   float64\n",
      " 19  Infiltration                 5604 non-null   float64\n",
      " 20  Mass                         5604 non-null   float64\n",
      " 21  No Finding                   5604 non-null   float64\n",
      " 22  Nodule                       5604 non-null   float64\n",
      " 23  Pleural_Thickening           5604 non-null   float64\n",
      " 24  Pneumonia                    5604 non-null   float64\n",
      " 25  Pneumothorax                 5604 non-null   float64\n",
      "dtypes: float64(22), int64(2), object(2)\n",
      "memory usage: 1.1+ MB\n"
     ]
    }
   ],
   "source": [
    "data.info()"
   ]
  },
  {
   "cell_type": "code",
   "execution_count": 4,
   "metadata": {},
   "outputs": [],
   "source": [
    "\n",
    "# Drop the 'Finding Labels' column\n",
    "data = data.drop(columns=['Finding Labels'])"
   ]
  },
  {
   "cell_type": "code",
   "execution_count": 5,
   "metadata": {},
   "outputs": [
    {
     "name": "stdout",
     "output_type": "stream",
     "text": [
      "Index(['Image Index', 'Follow-up #', 'Patient ID', 'Patient Age',\n",
      "       'Patient Gender', 'View Position', 'OriginalImageWidth',\n",
      "       'OriginalImageHeight', 'OriginalImagePixelSpacing_x',\n",
      "       'OriginalImagePixelSpacing_y', 'Atelectasis', 'Cardiomegaly',\n",
      "       'Consolidation', 'Edema', 'Effusion', 'Emphysema', 'Fibrosis', 'Hernia',\n",
      "       'Infiltration', 'Mass', 'No Finding', 'Nodule', 'Pleural_Thickening',\n",
      "       'Pneumonia', 'Pneumothorax'],\n",
      "      dtype='object')\n"
     ]
    }
   ],
   "source": [
    "# Print columns\n",
    "print(data.columns)"
   ]
  },
  {
   "cell_type": "markdown",
   "metadata": {},
   "source": [
    "Razdelite podatke: Podelite svoje očišćene podatke na trening i test skup. Obično se koristi razmera od 80/20 ili 70/30, gde veći deo podataka ide za trening. Ovo omogućava modelu da uči na raznolikim primerima i da se validno evaluira na neviđenim podacima.\n",
    "\n",
    "Transformacija podataka: Ako već niste, transformišite svoje slike tako da budu uniformne veličine koje CNN može efikasno obraditi. Takođe, normalizujte vrednosti piksela da budu u rasponu od 0 do 1 ili od -1 do 1, što pomaže u bržem i stabilnijem učenju.\n",
    "\n",
    "Augmentacija podataka: Da bi se izbeglo preprilagođavanje i poboljšala generalizacija modela, razmislite o korišćenju tehnika augmentacije slika kao što su rotacije, translacija, izoštravanje, promena osvetljenja, itd.\n",
    "\n",
    "Priprema generatora podataka: Koristite funkcije kao što su ImageDataGenerator iz Kerasa za automatsko učitavanje i transformaciju slika tokom treniranja. Ovo smanjuje potrošnju memorije i omogućava efikasnije učenje.\n",
    "\n",
    "Definicija modela: Izgradite svoj CNN model. Počnite sa jednostavnijom arhitekturom i postepeno dodajte slojeve ili koristite prethodno obučene modele kao što su VGG, ResNet, ili neki drugi, ukoliko vam je cilj dublje učenje sa transferom znanja.\n",
    "\n",
    "Kompilacija modela: Definišite funkciju gubitka i optimizator. Za klasifikaciju slika često se koristi kategorizovana unakrsna entropija, a optimizatori poput Adam ili SGD su standardni izbori.\n",
    "\n",
    "Treniranje modela: Podesite broj epoha i veličinu serije (batch size) prema vašim resursima i potrebama. Pratite tačnost i gubitak na trening i validacionim skupovima tokom treniranja da biste pratili napredak i eventualno prilagođavali hiperparametre.\n",
    "\n",
    "Evaluacija modela: Koristite test set da ocenite performanse modela. Fokusirajte se na metrike kao što su tačnost, preciznost, odziv i F1 skor, koje su ključne za medicinske primene.\n",
    "\n",
    "Fine-tuning i optimizacija: Na osnovu početnih rezultata, možda ćete želeli da prilagodite arhitekturu modela ili hiperparametre. Iterativno poboljšanje modela je ključno."
   ]
  },
  {
   "cell_type": "code",
   "execution_count": 6,
   "metadata": {},
   "outputs": [
    {
     "name": "stdout",
     "output_type": "stream",
     "text": [
      "(4483, 25)\n"
     ]
    }
   ],
   "source": [
    "# Split the data into training and testing sets\n",
    "train_data = data.sample(frac=0.8, random_state=0)\n",
    "test_data = data.drop(train_data.index)\n",
    "\n",
    "# Print the shapes of the training and testing sets\n",
    "print(train_data.shape)"
   ]
  },
  {
   "cell_type": "code",
   "execution_count": 7,
   "metadata": {},
   "outputs": [
    {
     "data": {
      "application/vnd.jupyter.widget-view+json": {
       "model_id": "19f2bfb74d2342629fe14a0b68d77b42",
       "version_major": 2,
       "version_minor": 0
      },
      "text/plain": [
       "Processing training images:   0%|          | 0/4483 [00:00<?, ?it/s]"
      ]
     },
     "metadata": {},
     "output_type": "display_data"
    },
    {
     "data": {
      "application/vnd.jupyter.widget-view+json": {
       "model_id": "b1c9d0df2b01466e9800caebb2a419d2",
       "version_major": 2,
       "version_minor": 0
      },
      "text/plain": [
       "Processing testing images:   0%|          | 0/1121 [00:00<?, ?it/s]"
      ]
     },
     "metadata": {},
     "output_type": "display_data"
    },
    {
     "name": "stdout",
     "output_type": "stream",
     "text": [
      "           Image Index  Follow-up #  Patient ID  Patient Age  Patient Gender  \\\n",
      "731   00003838_000.png          0.0      3838.0         52.0               0   \n",
      "1569  00008127_001.png          1.0      8127.0         32.0               0   \n",
      "3684  00018091_016.png         16.0     18091.0         41.0               1   \n",
      "3892  00019176_062.png         62.0     19176.0         66.0               0   \n",
      "3042  00014958_014.png         14.0     14958.0         19.0               0   \n",
      "\n",
      "      View Position  OriginalImageWidth  OriginalImageHeight  \\\n",
      "731               1              2048.0               2500.0   \n",
      "1569              1              2048.0               2500.0   \n",
      "3684              0              2500.0               2048.0   \n",
      "3892              0              3056.0               2544.0   \n",
      "3042              1              2820.0               2991.0   \n",
      "\n",
      "      OriginalImagePixelSpacing_x  OriginalImagePixelSpacing_y  ...  Fibrosis  \\\n",
      "731                         0.168                        0.168  ...       0.0   \n",
      "1569                        0.168                        0.168  ...       0.0   \n",
      "3684                        0.168                        0.168  ...       0.0   \n",
      "3892                        0.139                        0.139  ...       0.0   \n",
      "3042                        0.143                        0.143  ...       0.0   \n",
      "\n",
      "      Hernia  Infiltration  Mass  No Finding  Nodule  Pleural_Thickening  \\\n",
      "731      0.0           0.0   0.0         1.0     0.0                 0.0   \n",
      "1569     0.0           0.0   0.0         1.0     0.0                 0.0   \n",
      "3684     0.0           0.0   0.0         0.0     0.0                 0.0   \n",
      "3892     0.0           1.0   0.0         0.0     0.0                 0.0   \n",
      "3042     0.0           0.0   0.0         0.0     0.0                 0.0   \n",
      "\n",
      "      Pneumonia  Pneumothorax  \\\n",
      "731         0.0           0.0   \n",
      "1569        0.0           0.0   \n",
      "3684        0.0           0.0   \n",
      "3892        0.0           0.0   \n",
      "3042        0.0           0.0   \n",
      "\n",
      "                                            image_array  \n",
      "731   [[[0.08235294, 0.08235294, 0.08235294], [0.078...  \n",
      "1569  [[[0.003921569, 0.003921569, 0.003921569], [0....  \n",
      "3684  [[[0.023529412, 0.023529412, 0.023529412], [0....  \n",
      "3892  [[[0.0, 0.0, 0.0], [0.0, 0.0, 0.0], [0.0, 0.0,...  \n",
      "3042  [[[0.0, 0.0, 0.0], [0.49411765, 0.49411765, 0....  \n",
      "\n",
      "[5 rows x 26 columns]\n"
     ]
    }
   ],
   "source": [
    "from tqdm.auto import tqdm  # Uvoz tqdm za vizuelni prikaz napretka\n",
    "\n",
    "def load_and_preprocess_image(image_path):\n",
    "    \"\"\"Funkcija za učitavanje i preprocesiranje slike.\"\"\"\n",
    "    full_path = os.path.join(image_folder_path, image_path)\n",
    "    image = load_img(full_path, target_size=(224, 224))  # Promena veličine slike na 224x224\n",
    "    image = img_to_array(image)  # Pretvaranje slike u numpy niz\n",
    "    image = image / 255.0  # Normalizacija vrednosti piksela od 0 do 1\n",
    "    return image\n",
    "\n",
    "# Primena funkcije na kolonu sa putanjama slika uz upotrebu tqdm za prikaz napretka\n",
    "train_data['image_array'] = [load_and_preprocess_image(path) for path in tqdm(train_data['Image Index'], desc='Processing training images')]\n",
    "test_data['image_array'] = [load_and_preprocess_image(path) for path in tqdm(test_data['Image Index'], desc='Processing testing images')]\n",
    "\n",
    "# Provera prvih nekoliko redova da se vidi struktura podataka\n",
    "print(train_data.head())"
   ]
  },
  {
   "cell_type": "code",
   "execution_count": 8,
   "metadata": {},
   "outputs": [
    {
     "name": "stdout",
     "output_type": "stream",
     "text": [
      "Train labels shape: (4483, 15)\n",
      "Test labels shape: (1121, 15)\n"
     ]
    }
   ],
   "source": [
    "# Pretvaranje oznaka iz DataFrame-a u numpy niz\n",
    "labels = data.iloc[:, 10:-1]  # Pretpostavka da su oznake dijagnoza između 10-te kolone i predzadnje\n",
    "y_train = train_data.iloc[:, 10:-1].values\n",
    "y_test = test_data.iloc[:, 10:-1].values\n",
    "\n",
    "# Provera\n",
    "print(\"Train labels shape:\", y_train.shape)\n",
    "print(\"Test labels shape:\", y_test.shape)\n"
   ]
  },
  {
   "cell_type": "code",
   "execution_count": 9,
   "metadata": {},
   "outputs": [
    {
     "name": "stdout",
     "output_type": "stream",
     "text": [
      "Train images shape: (4483, 224, 224, 3)\n",
      "Test images shape: (1121, 224, 224, 3)\n"
     ]
    }
   ],
   "source": [
    "# Pretvaranje lista slika u numpy nizove\n",
    "X_train = np.stack(train_data['image_array'].values)\n",
    "X_test = np.stack(test_data['image_array'].values)\n",
    "\n",
    "# Provera\n",
    "print(\"Train images shape:\", X_train.shape)\n",
    "print(\"Test images shape:\", X_test.shape)\n"
   ]
  },
  {
   "cell_type": "code",
   "execution_count": 12,
   "metadata": {},
   "outputs": [
    {
     "data": {
      "text/html": [
       "<pre style=\"white-space:pre;overflow-x:auto;line-height:normal;font-family:Menlo,'DejaVu Sans Mono',consolas,'Courier New',monospace\"><span style=\"font-weight: bold\">Model: \"sequential_1\"</span>\n",
       "</pre>\n"
      ],
      "text/plain": [
       "\u001b[1mModel: \"sequential_1\"\u001b[0m\n"
      ]
     },
     "metadata": {},
     "output_type": "display_data"
    },
    {
     "data": {
      "text/html": [
       "<pre style=\"white-space:pre;overflow-x:auto;line-height:normal;font-family:Menlo,'DejaVu Sans Mono',consolas,'Courier New',monospace\">┏━━━━━━━━━━━━━━━━━━━━━━━━━━━━━━━━━┳━━━━━━━━━━━━━━━━━━━━━━━━┳━━━━━━━━━━━━━━━┓\n",
       "┃<span style=\"font-weight: bold\"> Layer (type)                    </span>┃<span style=\"font-weight: bold\"> Output Shape           </span>┃<span style=\"font-weight: bold\">       Param # </span>┃\n",
       "┡━━━━━━━━━━━━━━━━━━━━━━━━━━━━━━━━━╇━━━━━━━━━━━━━━━━━━━━━━━━╇━━━━━━━━━━━━━━━┩\n",
       "│ conv2d_3 (<span style=\"color: #0087ff; text-decoration-color: #0087ff\">Conv2D</span>)               │ (<span style=\"color: #00d7ff; text-decoration-color: #00d7ff\">None</span>, <span style=\"color: #00af00; text-decoration-color: #00af00\">222</span>, <span style=\"color: #00af00; text-decoration-color: #00af00\">222</span>, <span style=\"color: #00af00; text-decoration-color: #00af00\">32</span>)   │           <span style=\"color: #00af00; text-decoration-color: #00af00\">896</span> │\n",
       "├─────────────────────────────────┼────────────────────────┼───────────────┤\n",
       "│ max_pooling2d_2 (<span style=\"color: #0087ff; text-decoration-color: #0087ff\">MaxPooling2D</span>)  │ (<span style=\"color: #00d7ff; text-decoration-color: #00d7ff\">None</span>, <span style=\"color: #00af00; text-decoration-color: #00af00\">111</span>, <span style=\"color: #00af00; text-decoration-color: #00af00\">111</span>, <span style=\"color: #00af00; text-decoration-color: #00af00\">32</span>)   │             <span style=\"color: #00af00; text-decoration-color: #00af00\">0</span> │\n",
       "├─────────────────────────────────┼────────────────────────┼───────────────┤\n",
       "│ conv2d_4 (<span style=\"color: #0087ff; text-decoration-color: #0087ff\">Conv2D</span>)               │ (<span style=\"color: #00d7ff; text-decoration-color: #00d7ff\">None</span>, <span style=\"color: #00af00; text-decoration-color: #00af00\">109</span>, <span style=\"color: #00af00; text-decoration-color: #00af00\">109</span>, <span style=\"color: #00af00; text-decoration-color: #00af00\">64</span>)   │        <span style=\"color: #00af00; text-decoration-color: #00af00\">18,496</span> │\n",
       "├─────────────────────────────────┼────────────────────────┼───────────────┤\n",
       "│ max_pooling2d_3 (<span style=\"color: #0087ff; text-decoration-color: #0087ff\">MaxPooling2D</span>)  │ (<span style=\"color: #00d7ff; text-decoration-color: #00d7ff\">None</span>, <span style=\"color: #00af00; text-decoration-color: #00af00\">54</span>, <span style=\"color: #00af00; text-decoration-color: #00af00\">54</span>, <span style=\"color: #00af00; text-decoration-color: #00af00\">64</span>)     │             <span style=\"color: #00af00; text-decoration-color: #00af00\">0</span> │\n",
       "├─────────────────────────────────┼────────────────────────┼───────────────┤\n",
       "│ conv2d_5 (<span style=\"color: #0087ff; text-decoration-color: #0087ff\">Conv2D</span>)               │ (<span style=\"color: #00d7ff; text-decoration-color: #00d7ff\">None</span>, <span style=\"color: #00af00; text-decoration-color: #00af00\">52</span>, <span style=\"color: #00af00; text-decoration-color: #00af00\">52</span>, <span style=\"color: #00af00; text-decoration-color: #00af00\">64</span>)     │        <span style=\"color: #00af00; text-decoration-color: #00af00\">36,928</span> │\n",
       "├─────────────────────────────────┼────────────────────────┼───────────────┤\n",
       "│ flatten_1 (<span style=\"color: #0087ff; text-decoration-color: #0087ff\">Flatten</span>)             │ (<span style=\"color: #00d7ff; text-decoration-color: #00d7ff\">None</span>, <span style=\"color: #00af00; text-decoration-color: #00af00\">173056</span>)         │             <span style=\"color: #00af00; text-decoration-color: #00af00\">0</span> │\n",
       "├─────────────────────────────────┼────────────────────────┼───────────────┤\n",
       "│ dense_2 (<span style=\"color: #0087ff; text-decoration-color: #0087ff\">Dense</span>)                 │ (<span style=\"color: #00d7ff; text-decoration-color: #00d7ff\">None</span>, <span style=\"color: #00af00; text-decoration-color: #00af00\">64</span>)             │    <span style=\"color: #00af00; text-decoration-color: #00af00\">11,075,648</span> │\n",
       "├─────────────────────────────────┼────────────────────────┼───────────────┤\n",
       "│ dropout_1 (<span style=\"color: #0087ff; text-decoration-color: #0087ff\">Dropout</span>)             │ (<span style=\"color: #00d7ff; text-decoration-color: #00d7ff\">None</span>, <span style=\"color: #00af00; text-decoration-color: #00af00\">64</span>)             │             <span style=\"color: #00af00; text-decoration-color: #00af00\">0</span> │\n",
       "├─────────────────────────────────┼────────────────────────┼───────────────┤\n",
       "│ dense_3 (<span style=\"color: #0087ff; text-decoration-color: #0087ff\">Dense</span>)                 │ (<span style=\"color: #00d7ff; text-decoration-color: #00d7ff\">None</span>, <span style=\"color: #00af00; text-decoration-color: #00af00\">15</span>)             │           <span style=\"color: #00af00; text-decoration-color: #00af00\">975</span> │\n",
       "└─────────────────────────────────┴────────────────────────┴───────────────┘\n",
       "</pre>\n"
      ],
      "text/plain": [
       "┏━━━━━━━━━━━━━━━━━━━━━━━━━━━━━━━━━┳━━━━━━━━━━━━━━━━━━━━━━━━┳━━━━━━━━━━━━━━━┓\n",
       "┃\u001b[1m \u001b[0m\u001b[1mLayer (type)                   \u001b[0m\u001b[1m \u001b[0m┃\u001b[1m \u001b[0m\u001b[1mOutput Shape          \u001b[0m\u001b[1m \u001b[0m┃\u001b[1m \u001b[0m\u001b[1m      Param #\u001b[0m\u001b[1m \u001b[0m┃\n",
       "┡━━━━━━━━━━━━━━━━━━━━━━━━━━━━━━━━━╇━━━━━━━━━━━━━━━━━━━━━━━━╇━━━━━━━━━━━━━━━┩\n",
       "│ conv2d_3 (\u001b[38;5;33mConv2D\u001b[0m)               │ (\u001b[38;5;45mNone\u001b[0m, \u001b[38;5;34m222\u001b[0m, \u001b[38;5;34m222\u001b[0m, \u001b[38;5;34m32\u001b[0m)   │           \u001b[38;5;34m896\u001b[0m │\n",
       "├─────────────────────────────────┼────────────────────────┼───────────────┤\n",
       "│ max_pooling2d_2 (\u001b[38;5;33mMaxPooling2D\u001b[0m)  │ (\u001b[38;5;45mNone\u001b[0m, \u001b[38;5;34m111\u001b[0m, \u001b[38;5;34m111\u001b[0m, \u001b[38;5;34m32\u001b[0m)   │             \u001b[38;5;34m0\u001b[0m │\n",
       "├─────────────────────────────────┼────────────────────────┼───────────────┤\n",
       "│ conv2d_4 (\u001b[38;5;33mConv2D\u001b[0m)               │ (\u001b[38;5;45mNone\u001b[0m, \u001b[38;5;34m109\u001b[0m, \u001b[38;5;34m109\u001b[0m, \u001b[38;5;34m64\u001b[0m)   │        \u001b[38;5;34m18,496\u001b[0m │\n",
       "├─────────────────────────────────┼────────────────────────┼───────────────┤\n",
       "│ max_pooling2d_3 (\u001b[38;5;33mMaxPooling2D\u001b[0m)  │ (\u001b[38;5;45mNone\u001b[0m, \u001b[38;5;34m54\u001b[0m, \u001b[38;5;34m54\u001b[0m, \u001b[38;5;34m64\u001b[0m)     │             \u001b[38;5;34m0\u001b[0m │\n",
       "├─────────────────────────────────┼────────────────────────┼───────────────┤\n",
       "│ conv2d_5 (\u001b[38;5;33mConv2D\u001b[0m)               │ (\u001b[38;5;45mNone\u001b[0m, \u001b[38;5;34m52\u001b[0m, \u001b[38;5;34m52\u001b[0m, \u001b[38;5;34m64\u001b[0m)     │        \u001b[38;5;34m36,928\u001b[0m │\n",
       "├─────────────────────────────────┼────────────────────────┼───────────────┤\n",
       "│ flatten_1 (\u001b[38;5;33mFlatten\u001b[0m)             │ (\u001b[38;5;45mNone\u001b[0m, \u001b[38;5;34m173056\u001b[0m)         │             \u001b[38;5;34m0\u001b[0m │\n",
       "├─────────────────────────────────┼────────────────────────┼───────────────┤\n",
       "│ dense_2 (\u001b[38;5;33mDense\u001b[0m)                 │ (\u001b[38;5;45mNone\u001b[0m, \u001b[38;5;34m64\u001b[0m)             │    \u001b[38;5;34m11,075,648\u001b[0m │\n",
       "├─────────────────────────────────┼────────────────────────┼───────────────┤\n",
       "│ dropout_1 (\u001b[38;5;33mDropout\u001b[0m)             │ (\u001b[38;5;45mNone\u001b[0m, \u001b[38;5;34m64\u001b[0m)             │             \u001b[38;5;34m0\u001b[0m │\n",
       "├─────────────────────────────────┼────────────────────────┼───────────────┤\n",
       "│ dense_3 (\u001b[38;5;33mDense\u001b[0m)                 │ (\u001b[38;5;45mNone\u001b[0m, \u001b[38;5;34m15\u001b[0m)             │           \u001b[38;5;34m975\u001b[0m │\n",
       "└─────────────────────────────────┴────────────────────────┴───────────────┘\n"
      ]
     },
     "metadata": {},
     "output_type": "display_data"
    },
    {
     "data": {
      "text/html": [
       "<pre style=\"white-space:pre;overflow-x:auto;line-height:normal;font-family:Menlo,'DejaVu Sans Mono',consolas,'Courier New',monospace\"><span style=\"font-weight: bold\"> Total params: </span><span style=\"color: #00af00; text-decoration-color: #00af00\">11,132,943</span> (42.47 MB)\n",
       "</pre>\n"
      ],
      "text/plain": [
       "\u001b[1m Total params: \u001b[0m\u001b[38;5;34m11,132,943\u001b[0m (42.47 MB)\n"
      ]
     },
     "metadata": {},
     "output_type": "display_data"
    },
    {
     "data": {
      "text/html": [
       "<pre style=\"white-space:pre;overflow-x:auto;line-height:normal;font-family:Menlo,'DejaVu Sans Mono',consolas,'Courier New',monospace\"><span style=\"font-weight: bold\"> Trainable params: </span><span style=\"color: #00af00; text-decoration-color: #00af00\">11,132,943</span> (42.47 MB)\n",
       "</pre>\n"
      ],
      "text/plain": [
       "\u001b[1m Trainable params: \u001b[0m\u001b[38;5;34m11,132,943\u001b[0m (42.47 MB)\n"
      ]
     },
     "metadata": {},
     "output_type": "display_data"
    },
    {
     "data": {
      "text/html": [
       "<pre style=\"white-space:pre;overflow-x:auto;line-height:normal;font-family:Menlo,'DejaVu Sans Mono',consolas,'Courier New',monospace\"><span style=\"font-weight: bold\"> Non-trainable params: </span><span style=\"color: #00af00; text-decoration-color: #00af00\">0</span> (0.00 B)\n",
       "</pre>\n"
      ],
      "text/plain": [
       "\u001b[1m Non-trainable params: \u001b[0m\u001b[38;5;34m0\u001b[0m (0.00 B)\n"
      ]
     },
     "metadata": {},
     "output_type": "display_data"
    }
   ],
   "source": [
    "from tensorflow.keras.layers import Input, Dropout\n",
    "from tensorflow.keras import regularizers\n",
    "\n",
    "# Definisanje modela\n",
    "model = models.Sequential([\n",
    "    Input(shape=(224, 224, 3)),  # Dodavanje Input sloja\n",
    "    layers.Conv2D(32, (3, 3), activation='relu'),\n",
    "    layers.MaxPooling2D((2, 2)),\n",
    "    layers.Conv2D(64, (3, 3), activation='relu'),\n",
    "    layers.MaxPooling2D((2, 2)),\n",
    "    layers.Conv2D(64, (3, 3), activation='relu'),\n",
    "    layers.Flatten(),\n",
    "    layers.Dense(64, activation='relu', kernel_regularizer=regularizers.l2(0.01)),  # L2 regularizacija\n",
    "    Dropout(0.5),  # Dropout sloj\n",
    "    layers.Dense(15, activation='sigmoid')  # Uskladite broj izlaznih jedinica sa brojem oznaka\n",
    "])\n",
    "\n",
    "# Kompilacija modela\n",
    "model.compile(optimizer='adam',\n",
    "              loss='binary_crossentropy',  # Koristi se binary_crossentropy jer je svaka oznaka binarna\n",
    "              metrics=['accuracy'])\n",
    "\n",
    "# Prikaz arhitekture modela\n",
    "model.summary()\n"
   ]
  },
  {
   "cell_type": "code",
   "execution_count": 13,
   "metadata": {},
   "outputs": [
    {
     "name": "stdout",
     "output_type": "stream",
     "text": [
      "Epoch 1/10\n",
      "\u001b[1m141/141\u001b[0m \u001b[32m━━━━━━━━━━━━━━━━━━━━\u001b[0m\u001b[37m\u001b[0m \u001b[1m67s\u001b[0m 444ms/step - accuracy: 0.3037 - loss: 0.7554 - val_accuracy: 0.5584 - val_loss: 0.2292\n",
      "Epoch 2/10\n",
      "\u001b[1m141/141\u001b[0m \u001b[32m━━━━━━━━━━━━━━━━━━━━\u001b[0m\u001b[37m\u001b[0m \u001b[1m52s\u001b[0m 367ms/step - accuracy: 0.4634 - loss: 0.2670 - val_accuracy: 0.5584 - val_loss: 0.2183\n",
      "Epoch 3/10\n",
      "\u001b[1m141/141\u001b[0m \u001b[32m━━━━━━━━━━━━━━━━━━━━\u001b[0m\u001b[37m\u001b[0m \u001b[1m51s\u001b[0m 360ms/step - accuracy: 0.5021 - loss: 0.2499 - val_accuracy: 0.5584 - val_loss: 0.2177\n",
      "Epoch 4/10\n",
      "\u001b[1m141/141\u001b[0m \u001b[32m━━━━━━━━━━━━━━━━━━━━\u001b[0m\u001b[37m\u001b[0m \u001b[1m52s\u001b[0m 368ms/step - accuracy: 0.5322 - loss: 0.2420 - val_accuracy: 0.5584 - val_loss: 0.2217\n",
      "Epoch 5/10\n",
      "\u001b[1m141/141\u001b[0m \u001b[32m━━━━━━━━━━━━━━━━━━━━\u001b[0m\u001b[37m\u001b[0m \u001b[1m51s\u001b[0m 362ms/step - accuracy: 0.5349 - loss: 0.2445 - val_accuracy: 0.5584 - val_loss: 0.2134\n",
      "Epoch 6/10\n",
      "\u001b[1m141/141\u001b[0m \u001b[32m━━━━━━━━━━━━━━━━━━━━\u001b[0m\u001b[37m\u001b[0m \u001b[1m52s\u001b[0m 367ms/step - accuracy: 0.5417 - loss: 0.2372 - val_accuracy: 0.5584 - val_loss: 0.2156\n",
      "Epoch 7/10\n",
      "\u001b[1m141/141\u001b[0m \u001b[32m━━━━━━━━━━━━━━━━━━━━\u001b[0m\u001b[37m\u001b[0m \u001b[1m51s\u001b[0m 362ms/step - accuracy: 0.5224 - loss: 0.2384 - val_accuracy: 0.5584 - val_loss: 0.2143\n",
      "Epoch 8/10\n",
      "\u001b[1m141/141\u001b[0m \u001b[32m━━━━━━━━━━━━━━━━━━━━\u001b[0m\u001b[37m\u001b[0m \u001b[1m51s\u001b[0m 360ms/step - accuracy: 0.5298 - loss: 0.2323 - val_accuracy: 0.5584 - val_loss: 0.2159\n",
      "Epoch 9/10\n",
      "\u001b[1m141/141\u001b[0m \u001b[32m━━━━━━━━━━━━━━━━━━━━\u001b[0m\u001b[37m\u001b[0m \u001b[1m51s\u001b[0m 360ms/step - accuracy: 0.5335 - loss: 0.2328 - val_accuracy: 0.5584 - val_loss: 0.2154\n",
      "Epoch 10/10\n",
      "\u001b[1m141/141\u001b[0m \u001b[32m━━━━━━━━━━━━━━━━━━━━\u001b[0m\u001b[37m\u001b[0m \u001b[1m51s\u001b[0m 362ms/step - accuracy: 0.5361 - loss: 0.2315 - val_accuracy: 0.5584 - val_loss: 0.2140\n"
     ]
    }
   ],
   "source": [
    "history = model.fit(\n",
    "    X_train, y_train,\n",
    "    epochs=10,\n",
    "    batch_size=32,\n",
    "    validation_data=(X_test, y_test)\n",
    ")\n"
   ]
  },
  {
   "cell_type": "code",
   "execution_count": 14,
   "metadata": {},
   "outputs": [
    {
     "name": "stdout",
     "output_type": "stream",
     "text": [
      "\u001b[1m36/36\u001b[0m \u001b[32m━━━━━━━━━━━━━━━━━━━━\u001b[0m\u001b[37m\u001b[0m \u001b[1m3s\u001b[0m 85ms/step - accuracy: 0.5898 - loss: 0.2037\n",
      "Test loss: 0.21403832733631134\n",
      "Test accuracy: 0.5584299564361572\n"
     ]
    }
   ],
   "source": [
    "test_loss, test_acc = model.evaluate(X_test, y_test)\n",
    "print(\"Test loss:\", test_loss)\n",
    "print(\"Test accuracy:\", test_acc)\n"
   ]
  },
  {
   "cell_type": "code",
   "execution_count": 15,
   "metadata": {},
   "outputs": [
    {
     "data": {
      "image/png": "[encoded data removed]",
      "text/plain": [
       "<Figure size 1200x500 with 2 Axes>"
      ]
     },
     "metadata": {},
     "output_type": "display_data"
    }
   ],
   "source": [
    "import matplotlib.pyplot as plt\n",
    "\n",
    "plt.figure(figsize=(12, 5))\n",
    "\n",
    "plt.subplot(1, 2, 1)\n",
    "plt.plot(history.history['accuracy'], label='Training Accuracy')\n",
    "plt.plot(history.history['val_accuracy'], label='Validation Accuracy')\n",
    "plt.title('Accuracy over Epochs')\n",
    "plt.xlabel('Epochs')\n",
    "plt.ylabel('Accuracy')\n",
    "plt.legend()\n",
    "\n",
    "plt.subplot(1, 2, 2)\n",
    "plt.plot(history.history['loss'], label='Training Loss')\n",
    "plt.plot(history.history['val_loss'], label='Validation Loss')\n",
    "plt.title('Loss over Epochs')\n",
    "plt.xlabel('Epochs')\n",
    "plt.ylabel('Loss')\n",
    "plt.legend()\n",
    "\n",
    "plt.show()"
   ]
  },
  {
   "cell_type": "code",
   "execution_count": 16,
   "metadata": {},
   "outputs": [
    {
     "name": "stdout",
     "output_type": "stream",
     "text": [
      "[ 408.  123.  177.   92.  511.   97.   71.   10.  788.  238. 2416.  256.\n",
      "  140.   48.  217.]\n"
     ]
    }
   ],
   "source": [
    "# Proverite distribuciju klasa\n",
    "print(np.sum(y_train, axis=0))\n"
   ]
  },
  {
   "cell_type": "markdown",
   "metadata": {},
   "source": [
    "rezultati pokazuju znatnu varijabilnost u broju instanci po klasama, što ukazuje na potencijalni problem nebalansiranosti klasa u vašem datasetu. Klasa sa indeksom 10 (2416 instanci) znatno je zastupljenija u odnosu na ostale, što može uzrokovati pristrasnost modela prema toj kategoriji."
   ]
  },
  {
   "cell_type": "code",
   "execution_count": 19,
   "metadata": {},
   "outputs": [
    {
     "name": "stdout",
     "output_type": "stream",
     "text": [
      "Epoch 1/10\n",
      "\u001b[1m141/141\u001b[0m \u001b[32m━━━━━━━━━━━━━━━━━━━━\u001b[0m\u001b[37m\u001b[0m \u001b[1m57s\u001b[0m 391ms/step - accuracy: 0.5384 - loss: 0.2704 - val_accuracy: 0.5584 - val_loss: 0.2264\n",
      "Epoch 2/10\n",
      "\u001b[1m141/141\u001b[0m \u001b[32m━━━━━━━━━━━━━━━━━━━━\u001b[0m\u001b[37m\u001b[0m \u001b[1m52s\u001b[0m 370ms/step - accuracy: 0.5289 - loss: 0.2968 - val_accuracy: 0.5584 - val_loss: 0.2208\n",
      "Epoch 3/10\n",
      "\u001b[1m141/141\u001b[0m \u001b[32m━━━━━━━━━━━━━━━━━━━━\u001b[0m\u001b[37m\u001b[0m \u001b[1m52s\u001b[0m 368ms/step - accuracy: 0.5415 - loss: 0.2695 - val_accuracy: 0.5584 - val_loss: 0.2250\n",
      "Epoch 4/10\n",
      "\u001b[1m141/141\u001b[0m \u001b[32m━━━━━━━━━━━━━━━━━━━━\u001b[0m\u001b[37m\u001b[0m \u001b[1m52s\u001b[0m 366ms/step - accuracy: 0.5431 - loss: 0.2674 - val_accuracy: 0.5584 - val_loss: 0.2251\n",
      "Epoch 5/10\n",
      "\u001b[1m141/141\u001b[0m \u001b[32m━━━━━━━━━━━━━━━━━━━━\u001b[0m\u001b[37m\u001b[0m \u001b[1m53s\u001b[0m 373ms/step - accuracy: 0.5399 - loss: 0.2569 - val_accuracy: 0.5584 - val_loss: 0.2284\n",
      "Epoch 6/10\n",
      "\u001b[1m141/141\u001b[0m \u001b[32m━━━━━━━━━━━━━━━━━━━━\u001b[0m\u001b[37m\u001b[0m \u001b[1m53s\u001b[0m 377ms/step - accuracy: 0.5408 - loss: 0.2653 - val_accuracy: 0.5584 - val_loss: 0.2216\n",
      "Epoch 7/10\n",
      "\u001b[1m141/141\u001b[0m \u001b[32m━━━━━━━━━━━━━━━━━━━━\u001b[0m\u001b[37m\u001b[0m \u001b[1m53s\u001b[0m 379ms/step - accuracy: 0.5440 - loss: 0.2567 - val_accuracy: 0.5584 - val_loss: 0.2239\n",
      "Epoch 8/10\n",
      "\u001b[1m141/141\u001b[0m \u001b[32m━━━━━━━━━━━━━━━━━━━━\u001b[0m\u001b[37m\u001b[0m \u001b[1m51s\u001b[0m 359ms/step - accuracy: 0.5319 - loss: 0.2672 - val_accuracy: 0.5584 - val_loss: 0.2212\n",
      "Epoch 9/10\n",
      "\u001b[1m141/141\u001b[0m \u001b[32m━━━━━━━━━━━━━━━━━━━━\u001b[0m\u001b[37m\u001b[0m \u001b[1m52s\u001b[0m 365ms/step - accuracy: 0.5303 - loss: 0.2543 - val_accuracy: 0.5584 - val_loss: 0.2220\n",
      "Epoch 10/10\n",
      "\u001b[1m141/141\u001b[0m \u001b[32m━━━━━━━━━━━━━━━━━━━━\u001b[0m\u001b[37m\u001b[0m \u001b[1m52s\u001b[0m 368ms/step - accuracy: 0.5420 - loss: 0.2619 - val_accuracy: 0.5584 - val_loss: 0.2225\n"
     ]
    }
   ],
   "source": [
    "# Strategije za Rešavanje Neuravnoteženosti Klasa\n",
    "# Ponderisanje Klasa: Prilagodite težine gubitka u procesu treniranja kako bi se manje zastupljenim klasama dala veća važnost.\n",
    "\n",
    "from sklearn.utils import class_weight\n",
    "class_weights = class_weight.compute_class_weight('balanced',\n",
    "                                                  classes=np.unique(y_train),\n",
    "                                                  y=np.ravel(y_train))\n",
    "class_weights = dict(enumerate(class_weights))\n",
    "\n",
    "# Treniranje modela sa ponderisanim klasama\n",
    "history = model.fit(\n",
    "    X_train, y_train,\n",
    "    epochs=10,\n",
    "    batch_size=32,\n",
    "    validation_data=(X_test, y_test),\n",
    "    class_weight=class_weights\n",
    ")\n"
   ]
  },
  {
   "cell_type": "code",
   "execution_count": null,
   "metadata": {},
   "outputs": [],
   "source": []
  },
  {
   "cell_type": "code",
   "execution_count": 20,
   "metadata": {},
   "outputs": [
    {
     "name": "stdout",
     "output_type": "stream",
     "text": [
      "\u001b[1m36/36\u001b[0m \u001b[32m━━━━━━━━━━━━━━━━━━━━\u001b[0m\u001b[37m\u001b[0m \u001b[1m3s\u001b[0m 81ms/step - accuracy: 0.5898 - loss: 0.2128\n",
      "Test loss: 0.22250719368457794\n",
      "Test accuracy: 0.5584299564361572\n"
     ]
    }
   ],
   "source": [
    "test_loss, test_acc = model.evaluate(X_test, y_test)\n",
    "print(\"Test loss:\", test_loss)\n",
    "print(\"Test accuracy:\", test_acc)\n"
   ]
  },
  {
   "cell_type": "code",
   "execution_count": 22,
   "metadata": {},
   "outputs": [
    {
     "name": "stdout",
     "output_type": "stream",
     "text": [
      "Epoch 1/10\n",
      "\u001b[1m141/141\u001b[0m \u001b[32m━━━━━━━━━━━━━━━━━━━━\u001b[0m\u001b[37m\u001b[0m \u001b[1m56s\u001b[0m 391ms/step - accuracy: 0.5321 - loss: 1.1500 - val_accuracy: 0.5584 - val_loss: 0.4877\n",
      "Epoch 2/10\n",
      "\u001b[1m141/141\u001b[0m \u001b[32m━━━━━━━━━━━━━━━━━━━━\u001b[0m\u001b[37m\u001b[0m \u001b[1m53s\u001b[0m 379ms/step - accuracy: 0.4879 - loss: 1.2143 - val_accuracy: 0.5584 - val_loss: 0.4540\n",
      "Epoch 3/10\n",
      "\u001b[1m141/141\u001b[0m \u001b[32m━━━━━━━━━━━━━━━━━━━━\u001b[0m\u001b[37m\u001b[0m \u001b[1m53s\u001b[0m 374ms/step - accuracy: 0.5405 - loss: 1.0012 - val_accuracy: 0.5584 - val_loss: 0.4861\n",
      "Epoch 4/10\n",
      "\u001b[1m141/141\u001b[0m \u001b[32m━━━━━━━━━━━━━━━━━━━━\u001b[0m\u001b[37m\u001b[0m \u001b[1m52s\u001b[0m 368ms/step - accuracy: 0.3387 - loss: 1.2519 - val_accuracy: 0.2864 - val_loss: 0.5441\n",
      "Epoch 5/10\n",
      "\u001b[1m141/141\u001b[0m \u001b[32m━━━━━━━━━━━━━━━━━━━━\u001b[0m\u001b[37m\u001b[0m \u001b[1m52s\u001b[0m 372ms/step - accuracy: 0.1775 - loss: 1.9743 - val_accuracy: 0.1070 - val_loss: 0.5357\n",
      "Epoch 6/10\n",
      "\u001b[1m141/141\u001b[0m \u001b[32m━━━━━━━━━━━━━━━━━━━━\u001b[0m\u001b[37m\u001b[0m \u001b[1m52s\u001b[0m 371ms/step - accuracy: 0.1308 - loss: 1.2486 - val_accuracy: 0.0714 - val_loss: 0.3962\n",
      "Epoch 7/10\n",
      "\u001b[1m141/141\u001b[0m \u001b[32m━━━━━━━━━━━━━━━━━━━━\u001b[0m\u001b[37m\u001b[0m \u001b[1m53s\u001b[0m 377ms/step - accuracy: 0.0665 - loss: 2.1662 - val_accuracy: 0.0714 - val_loss: 0.4269\n",
      "Epoch 8/10\n",
      "\u001b[1m141/141\u001b[0m \u001b[32m━━━━━━━━━━━━━━━━━━━━\u001b[0m\u001b[37m\u001b[0m \u001b[1m53s\u001b[0m 375ms/step - accuracy: 0.0705 - loss: 1.9181 - val_accuracy: 0.0714 - val_loss: 0.4613\n",
      "Epoch 9/10\n",
      "\u001b[1m141/141\u001b[0m \u001b[32m━━━━━━━━━━━━━━━━━━━━\u001b[0m\u001b[37m\u001b[0m \u001b[1m53s\u001b[0m 376ms/step - accuracy: 0.0771 - loss: 1.6222 - val_accuracy: 0.0714 - val_loss: 0.4221\n",
      "Epoch 10/10\n",
      "\u001b[1m141/141\u001b[0m \u001b[32m━━━━━━━━━━━━━━━━━━━━\u001b[0m\u001b[37m\u001b[0m \u001b[1m53s\u001b[0m 376ms/step - accuracy: 0.0708 - loss: 1.1902 - val_accuracy: 0.0705 - val_loss: 0.4152\n"
     ]
    }
   ],
   "source": [
    "from sklearn.utils.class_weight import compute_sample_weight\n",
    "\n",
    "# Računanje težina za svaki uzorak\n",
    "sample_weights = compute_sample_weight('balanced', y_train)\n",
    "\n",
    "# Treniranje modela sa ponderisanim uzorcima\n",
    "history = model.fit(\n",
    "    X_train, y_train,\n",
    "    sample_weight=sample_weights,\n",
    "    epochs=10,\n",
    "    batch_size=32,\n",
    "    validation_data=(X_test, y_test)\n",
    ")\n"
   ]
  },
  {
   "cell_type": "code",
   "execution_count": 23,
   "metadata": {},
   "outputs": [
    {
     "name": "stdout",
     "output_type": "stream",
     "text": [
      "\u001b[1m36/36\u001b[0m \u001b[32m━━━━━━━━━━━━━━━━━━━━\u001b[0m\u001b[37m\u001b[0m \u001b[1m3s\u001b[0m 79ms/step - accuracy: 0.0674 - loss: 0.4122\n",
      "Test loss: 0.41518551111221313\n",
      "Test accuracy: 0.07047279179096222\n"
     ]
    }
   ],
   "source": [
    "test_loss, test_acc = model.evaluate(X_test, y_test)\n",
    "print(\"Test loss:\", test_loss)\n",
    "print(\"Test accuracy:\", test_acc)\n"
   ]
  },
  {
   "cell_type": "code",
   "execution_count": 24,
   "metadata": {},
   "outputs": [],
   "source": [
    "from tensorflow.keras.preprocessing.image import ImageDataGenerator\n",
    "\n",
    "datagen = ImageDataGenerator(\n",
    "    rotation_range=20,\n",
    "    width_shift_range=0.2,\n",
    "    height_shift_range=0.2,\n",
    "    shear_range=0.15,\n",
    "    zoom_range=0.1,\n",
    "    horizontal_flip=True,\n",
    "    fill_mode='nearest'\n",
    ")\n",
    "\n",
    "# Augmentacija se primenjuje samo na trening podatke\n"
   ]
  },
  {
   "cell_type": "code",
   "execution_count": 25,
   "metadata": {},
   "outputs": [
    {
     "name": "stdout",
     "output_type": "stream",
     "text": [
      "\u001b[1m36/36\u001b[0m \u001b[32m━━━━━━━━━━━━━━━━━━━━\u001b[0m\u001b[37m\u001b[0m \u001b[1m3s\u001b[0m 74ms/step\n",
      "Hamming Loss: 0.0824264049955397\n",
      "Jaccard Score: 0.0\n"
     ]
    }
   ],
   "source": [
    "from sklearn.metrics import hamming_loss, jaccard_score\n",
    "\n",
    "# Predviđanja modela\n",
    "predictions = model.predict(X_test)\n",
    "# Pretvaranje predviđanja u binarni oblik\n",
    "predictions = (predictions > 0.5).astype(int)\n",
    "\n",
    "# Izračunavanje Hamming loss-a\n",
    "hamming = hamming_loss(y_test, predictions)\n",
    "print('Hamming Loss:', hamming)\n",
    "\n",
    "# Izračunavanje Jaccard score-a\n",
    "jaccard = jaccard_score(y_test, predictions, average='samples')\n",
    "print('Jaccard Score:', jaccard)\n"
   ]
  }
 ],
 "metadata": {
  "kernelspec": {
   "display_name": "base",
   "language": "python",
   "name": "python3"
  },
  "language_info": {
   "codemirror_mode": {
    "name": "ipython",
    "version": 3
   },
   "file_extension": ".py",
   "mimetype": "text/x-python",
   "name": "python",
   "nbconvert_exporter": "python",
   "pygments_lexer": "ipython3",
   "version": "3.11.7"
  }
 },
 "nbformat": 4,
 "nbformat_minor": 2
}
