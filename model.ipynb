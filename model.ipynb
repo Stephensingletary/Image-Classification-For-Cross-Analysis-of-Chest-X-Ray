{
 "cells": [
  {
   "cell_type": "code",
   "execution_count": 1,
   "metadata": {},
   "outputs": [],
   "source": [
    "import tensorflow as tf\n",
    "import tensorflow.keras as K\n",
    "from tensorflow.keras.layers import Dense,Conv2D,BatchNormalization,Dropout,Flatten,MaxPooling2D\n",
    "from tensorflow.keras.models import Sequential\n",
    "import pandas as pd\n",
    "import numpy \n",
    "from glob import glob\n",
    "from PIL import Image\n",
    "import pathlib"
   ]
  },
  {
   "cell_type": "code",
   "execution_count": 7,
   "metadata": {},
   "outputs": [],
   "source": [
    "#CONSTANTS\n",
    "img_size = (1024,1024)"
   ]
  },
  {
   "cell_type": "code",
   "execution_count": 8,
   "metadata": {},
   "outputs": [],
   "source": [
    "image_path = pathlib.Path(\"Resources/labeled_images\")"
   ]
  },
  {
   "cell_type": "code",
   "execution_count": 9,
   "metadata": {},
   "outputs": [
    {
     "name": "stdout",
     "output_type": "stream",
     "text": [
      "Found 5606 files belonging to 2 classes.\n",
      "Using 4485 files for training.\n",
      "Found 5606 files belonging to 2 classes.\n",
      "Using 1121 files for validation.\n"
     ]
    }
   ],
   "source": [
    "train_ds = tf.keras.utils.image_dataset_from_directory(image_path,validation_split=0.2,seed=1,subset=\"training\",image_size=img_size,batch_size=64)\n",
    "valid_ds = tf.keras.utils.image_dataset_from_directory(image_path,validation_split=0.2,seed=1,subset=\"validation\",image_size=img_size,batch_size=64)"
   ]
  },
  {
   "cell_type": "code",
   "execution_count": 10,
   "metadata": {},
   "outputs": [],
   "source": [
    "normalization_layer = tf.keras.layers.Rescaling(1/255.0)\n",
    "train_ds_normalized = train_ds.map(lambda x,y: (normalization_layer(x),y))\n",
    "test_ds_normalized = valid_ds.map(lambda x,y: (normalization_layer(x),y))"
   ]
  },
  {
   "cell_type": "code",
   "execution_count": 11,
   "metadata": {},
   "outputs": [],
   "source": [
    "image_batch, labels_batch = next(iter(train_ds_normalized))"
   ]
  },
  {
   "cell_type": "code",
   "execution_count": 12,
   "metadata": {},
   "outputs": [],
   "source": [
    "model = tf.keras.Sequential([\n",
    "  Conv2D(128, 3, activation='relu'),\n",
    "  MaxPooling2D(),\n",
    "  Conv2D(64, 3, activation='relu'),\n",
    "  MaxPooling2D(),\n",
    "  Conv2D(64, 3, activation='relu'),\n",
    "  MaxPooling2D(),\n",
    "  Conv2D(32, 3, activation='relu'),\n",
    "  MaxPooling2D(),\n",
    "  Flatten(),\n",
    "  Dense(128, activation='relu'),\n",
    "  Dense(1,activation=\"sigmoid\")\n",
    "])\n"
   ]
  },
  {
   "cell_type": "code",
   "execution_count": 13,
   "metadata": {},
   "outputs": [],
   "source": [
    "model.compile(optimizer=\"adam\",loss=tf.keras.losses.BinaryCrossentropy,metrics=[\"accuracy\"])"
   ]
  },
  {
   "cell_type": "code",
   "execution_count": 14,
   "metadata": {},
   "outputs": [
    {
     "name": "stdout",
     "output_type": "stream",
     "text": [
      "Epoch 1/5\n"
     ]
    }
   ],
   "source": [
    "model.fit(train_ds_normalized,validation_data=valid_ds,epochs=5,verbose=2)"
   ]
  },
  {
   "cell_type": "code",
   "execution_count": null,
   "metadata": {},
   "outputs": [],
   "source": []
  }
 ],
 "metadata": {
  "kernelspec": {
   "display_name": "DotEnv",
   "language": "python",
   "name": "python3"
  },
  "language_info": {
   "codemirror_mode": {
    "name": "ipython",
    "version": 3
   },
   "file_extension": ".py",
   "mimetype": "text/x-python",
   "name": "python",
   "nbconvert_exporter": "python",
   "pygments_lexer": "ipython3",
   "version": "3.12.2"
  }
 },
 "nbformat": 4,
 "nbformat_minor": 2
}
