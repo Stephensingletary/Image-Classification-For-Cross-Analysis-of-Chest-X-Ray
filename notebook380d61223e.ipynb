{
  "metadata": {
    "kernelspec": {
      "display_name": "Python 3",
      "name": "python3"
    },
    "language_info": {
      "name": "python",
      "version": "3.10.13",
      "mimetype": "text/x-python",
      "codemirror_mode": {
        "name": "ipython",
        "version": 3
      },
      "pygments_lexer": "ipython3",
      "nbconvert_exporter": "python",
      "file_extension": ".py"
    },
    "kaggle": {
      "accelerator": "gpu",
      "dataSources": [
        {
          "sourceId": 18613,
          "sourceType": "datasetVersion",
          "datasetId": 5839
        }
      ],
      "dockerImageVersionId": 30699,
      "isInternetEnabled": true,
      "language": "python",
      "sourceType": "notebook",
      "isGpuEnabled": true
    },
    "colab": {
      "name": "notebook380d61223e",
      "provenance": [],
      "machine_shape": "hm",
      "gpuType": "V28",
      "include_colab_link": true
    },
    "accelerator": "TPU"
  },
  "nbformat_minor": 0,
  "nbformat": 4,
  "cells": [
    {
      "cell_type": "markdown",
      "metadata": {
        "id": "view-in-github",
        "colab_type": "text"
      },
      "source": [
        "<a href=\"https://colab.research.google.com/github/Stephensingletary/Image-Classification-For-Cross-Analysis-of-Chest-X-Ray/blob/Patrick/notebook380d61223e.ipynb\" target=\"_parent\"><img src=\"https://colab.research.google.com/assets/colab-badge.svg\" alt=\"Open In Colab\"/></a>"
      ]
    },
    {
      "source": [
        "\n",
        "# IMPORTANT: RUN THIS CELL IN ORDER TO IMPORT YOUR KAGGLE DATA SOURCES\n",
        "# TO THE CORRECT LOCATION (/kaggle/input) IN YOUR NOTEBOOK,\n",
        "# THEN FEEL FREE TO DELETE THIS CELL.\n",
        "# NOTE: THIS NOTEBOOK ENVIRONMENT DIFFERS FROM KAGGLE'S PYTHON\n",
        "# ENVIRONMENT SO THERE MAY BE MISSING LIBRARIES USED BY YOUR\n",
        "# NOTEBOOK.\n",
        "\n",
        "import os\n",
        "import sys\n",
        "from tempfile import NamedTemporaryFile\n",
        "from urllib.request import urlopen\n",
        "from urllib.parse import unquote, urlparse\n",
        "from urllib.error import HTTPError\n",
        "from zipfile import ZipFile\n",
        "import tarfile\n",
        "import shutil\n",
        "\n",
        "CHUNK_SIZE = 40960\n",
        "DATA_SOURCE_MAPPING = 'data:https%3A%2F%2Fstorage.googleapis.com%2Fkaggle-data-sets%2F5839%2F18613%2Fbundle%2Farchive.zip%3FX-Goog-Algorithm%3DGOOG4-RSA-SHA256%26X-Goog-Credential%3Dgcp-kaggle-com%2540kaggle-161607.iam.gserviceaccount.com%252F20240523%252Fauto%252Fstorage%252Fgoog4_request%26X-Goog-Date%3D20240523T170518Z%26X-Goog-Expires%3D259200%26X-Goog-SignedHeaders%3Dhost%26X-Goog-Signature%3D4b25be70b2d403b00d1d2a2447e2a4425b1a5acf656fc1efead408167ed4849ecf7441c1b162d701e6a538f9b3a1494269abf1d5b66d92c4861e68a53b31ba9da4fee2813d0aa560aea69b7708e8316605fa05cf40e04db5feeb550e87bb156bf8a9fe00736067f43b468b3168562a0defe7b6d05c3c886c4b7902aae6488161bc23100757a6a6a7dd5e51fe7439d12c6078bbd9a579415ccade44170e061d4a5a1c30c34a1fb8a3a134bbafefec1886200595644e4cb601c197cfca447ff4a20fa34c3c4059280ae02dfc10e47f5f103522c5fd925d25ccfdc25322a30aa523b5da3305cc34ec02e99b6ff0d32ffb66fc14faf0217e928d0c7778b71a0b8b1e'\n",
        "\n",
        "KAGGLE_INPUT_PATH='/kaggle/input'\n",
        "KAGGLE_WORKING_PATH='/kaggle/working'\n",
        "KAGGLE_SYMLINK='kaggle'\n",
        "\n",
        "!umount /kaggle/input/ 2> /dev/null\n",
        "shutil.rmtree('/kaggle/input', ignore_errors=True)\n",
        "os.makedirs(KAGGLE_INPUT_PATH, 0o777, exist_ok=True)\n",
        "os.makedirs(KAGGLE_WORKING_PATH, 0o777, exist_ok=True)\n",
        "\n",
        "try:\n",
        "  os.symlink(KAGGLE_INPUT_PATH, os.path.join(\"..\", 'input'), target_is_directory=True)\n",
        "except FileExistsError:\n",
        "  pass\n",
        "try:\n",
        "  os.symlink(KAGGLE_WORKING_PATH, os.path.join(\"..\", 'working'), target_is_directory=True)\n",
        "except FileExistsError:\n",
        "  pass\n",
        "\n",
        "for data_source_mapping in DATA_SOURCE_MAPPING.split(','):\n",
        "    directory, download_url_encoded = data_source_mapping.split(':')\n",
        "    download_url = unquote(download_url_encoded)\n",
        "    filename = urlparse(download_url).path\n",
        "    destination_path = os.path.join(KAGGLE_INPUT_PATH, directory)\n",
        "    try:\n",
        "        with urlopen(download_url) as fileres, NamedTemporaryFile() as tfile:\n",
        "            total_length = fileres.headers['content-length']\n",
        "            print(f'Downloading {directory}, {total_length} bytes compressed')\n",
        "            dl = 0\n",
        "            data = fileres.read(CHUNK_SIZE)\n",
        "            while len(data) > 0:\n",
        "                dl += len(data)\n",
        "                tfile.write(data)\n",
        "                done = int(50 * dl / int(total_length))\n",
        "                sys.stdout.write(f\"\\r[{'=' * done}{' ' * (50-done)}] {dl} bytes downloaded\")\n",
        "                sys.stdout.flush()\n",
        "                data = fileres.read(CHUNK_SIZE)\n",
        "            if filename.endswith('.zip'):\n",
        "              with ZipFile(tfile) as zfile:\n",
        "                zfile.extractall(destination_path)\n",
        "            else:\n",
        "              with tarfile.open(tfile.name) as tarfile:\n",
        "                tarfile.extractall(destination_path)\n",
        "            print(f'\\nDownloaded and uncompressed: {directory}')\n",
        "    except HTTPError as e:\n",
        "        print(f'Failed to load (likely expired) {download_url} to path {destination_path}')\n",
        "        continue\n",
        "    except OSError as e:\n",
        "        print(f'Failed to load {download_url} to path {destination_path}')\n",
        "        continue\n",
        "\n",
        "print('Data source import complete.')\n"
      ],
      "metadata": {
        "id": "I_h_z7AJag79",
        "outputId": "c440e2b5-9abe-4a36-e004-633cc91cc330",
        "colab": {
          "base_uri": "https://localhost:8080/",
          "height": 418
        }
      },
      "cell_type": "code",
      "outputs": [
        {
          "output_type": "stream",
          "name": "stdout",
          "text": [
            "Downloading data, 45096150231 bytes compressed\n",
            "[=                                                 ] 1025146880 bytes downloaded"
          ]
        },
        {
          "output_type": "error",
          "ename": "KeyboardInterrupt",
          "evalue": "",
          "traceback": [
            "\u001b[0;31m---------------------------------------------------------------------------\u001b[0m",
            "\u001b[0;31mKeyboardInterrupt\u001b[0m                         Traceback (most recent call last)",
            "\u001b[0;32m<ipython-input-1-a42c88796a8e>\u001b[0m in \u001b[0;36m<cell line: 39>\u001b[0;34m()\u001b[0m\n\u001b[1;32m     52\u001b[0m                 \u001b[0mtfile\u001b[0m\u001b[0;34m.\u001b[0m\u001b[0mwrite\u001b[0m\u001b[0;34m(\u001b[0m\u001b[0mdata\u001b[0m\u001b[0;34m)\u001b[0m\u001b[0;34m\u001b[0m\u001b[0;34m\u001b[0m\u001b[0m\n\u001b[1;32m     53\u001b[0m                 \u001b[0mdone\u001b[0m \u001b[0;34m=\u001b[0m \u001b[0mint\u001b[0m\u001b[0;34m(\u001b[0m\u001b[0;36m50\u001b[0m \u001b[0;34m*\u001b[0m \u001b[0mdl\u001b[0m \u001b[0;34m/\u001b[0m \u001b[0mint\u001b[0m\u001b[0;34m(\u001b[0m\u001b[0mtotal_length\u001b[0m\u001b[0;34m)\u001b[0m\u001b[0;34m)\u001b[0m\u001b[0;34m\u001b[0m\u001b[0;34m\u001b[0m\u001b[0m\n\u001b[0;32m---> 54\u001b[0;31m                 \u001b[0msys\u001b[0m\u001b[0;34m.\u001b[0m\u001b[0mstdout\u001b[0m\u001b[0;34m.\u001b[0m\u001b[0mwrite\u001b[0m\u001b[0;34m(\u001b[0m\u001b[0;34mf\"\\r[{'=' * done}{' ' * (50-done)}] {dl} bytes downloaded\"\u001b[0m\u001b[0;34m)\u001b[0m\u001b[0;34m\u001b[0m\u001b[0;34m\u001b[0m\u001b[0m\n\u001b[0m\u001b[1;32m     55\u001b[0m                 \u001b[0msys\u001b[0m\u001b[0;34m.\u001b[0m\u001b[0mstdout\u001b[0m\u001b[0;34m.\u001b[0m\u001b[0mflush\u001b[0m\u001b[0;34m(\u001b[0m\u001b[0;34m)\u001b[0m\u001b[0;34m\u001b[0m\u001b[0;34m\u001b[0m\u001b[0m\n\u001b[1;32m     56\u001b[0m                 \u001b[0mdata\u001b[0m \u001b[0;34m=\u001b[0m \u001b[0mfileres\u001b[0m\u001b[0;34m.\u001b[0m\u001b[0mread\u001b[0m\u001b[0;34m(\u001b[0m\u001b[0mCHUNK_SIZE\u001b[0m\u001b[0;34m)\u001b[0m\u001b[0;34m\u001b[0m\u001b[0;34m\u001b[0m\u001b[0m\n",
            "\u001b[0;32m/usr/local/lib/python3.10/dist-packages/ipykernel/iostream.py\u001b[0m in \u001b[0;36mwrite\u001b[0;34m(self, string)\u001b[0m\n\u001b[1;32m    410\u001b[0m                 \u001b[0mself\u001b[0m\u001b[0;34m.\u001b[0m\u001b[0mpub_thread\u001b[0m\u001b[0;34m.\u001b[0m\u001b[0mschedule\u001b[0m\u001b[0;34m(\u001b[0m\u001b[0mself\u001b[0m\u001b[0;34m.\u001b[0m\u001b[0m_flush\u001b[0m\u001b[0;34m)\u001b[0m\u001b[0;34m\u001b[0m\u001b[0;34m\u001b[0m\u001b[0m\n\u001b[1;32m    411\u001b[0m             \u001b[0;32melse\u001b[0m\u001b[0;34m:\u001b[0m\u001b[0;34m\u001b[0m\u001b[0;34m\u001b[0m\u001b[0m\n\u001b[0;32m--> 412\u001b[0;31m                 \u001b[0mself\u001b[0m\u001b[0;34m.\u001b[0m\u001b[0m_schedule_flush\u001b[0m\u001b[0;34m(\u001b[0m\u001b[0;34m)\u001b[0m\u001b[0;34m\u001b[0m\u001b[0;34m\u001b[0m\u001b[0m\n\u001b[0m\u001b[1;32m    413\u001b[0m \u001b[0;34m\u001b[0m\u001b[0m\n\u001b[1;32m    414\u001b[0m     \u001b[0;32mdef\u001b[0m \u001b[0mwritelines\u001b[0m\u001b[0;34m(\u001b[0m\u001b[0mself\u001b[0m\u001b[0;34m,\u001b[0m \u001b[0msequence\u001b[0m\u001b[0;34m)\u001b[0m\u001b[0;34m:\u001b[0m\u001b[0;34m\u001b[0m\u001b[0;34m\u001b[0m\u001b[0m\n",
            "\u001b[0;32m/usr/local/lib/python3.10/dist-packages/ipykernel/iostream.py\u001b[0m in \u001b[0;36m_schedule_flush\u001b[0;34m(self)\u001b[0m\n\u001b[1;32m    331\u001b[0m         \u001b[0;32mdef\u001b[0m \u001b[0m_schedule_in_thread\u001b[0m\u001b[0;34m(\u001b[0m\u001b[0;34m)\u001b[0m\u001b[0;34m:\u001b[0m\u001b[0;34m\u001b[0m\u001b[0;34m\u001b[0m\u001b[0m\n\u001b[1;32m    332\u001b[0m             \u001b[0mself\u001b[0m\u001b[0;34m.\u001b[0m\u001b[0m_io_loop\u001b[0m\u001b[0;34m.\u001b[0m\u001b[0mcall_later\u001b[0m\u001b[0;34m(\u001b[0m\u001b[0mself\u001b[0m\u001b[0;34m.\u001b[0m\u001b[0mflush_interval\u001b[0m\u001b[0;34m,\u001b[0m \u001b[0mself\u001b[0m\u001b[0;34m.\u001b[0m\u001b[0m_flush\u001b[0m\u001b[0;34m)\u001b[0m\u001b[0;34m\u001b[0m\u001b[0;34m\u001b[0m\u001b[0m\n\u001b[0;32m--> 333\u001b[0;31m         \u001b[0mself\u001b[0m\u001b[0;34m.\u001b[0m\u001b[0mpub_thread\u001b[0m\u001b[0;34m.\u001b[0m\u001b[0mschedule\u001b[0m\u001b[0;34m(\u001b[0m\u001b[0m_schedule_in_thread\u001b[0m\u001b[0;34m)\u001b[0m\u001b[0;34m\u001b[0m\u001b[0;34m\u001b[0m\u001b[0m\n\u001b[0m\u001b[1;32m    334\u001b[0m \u001b[0;34m\u001b[0m\u001b[0m\n\u001b[1;32m    335\u001b[0m     \u001b[0;32mdef\u001b[0m \u001b[0mflush\u001b[0m\u001b[0;34m(\u001b[0m\u001b[0mself\u001b[0m\u001b[0;34m)\u001b[0m\u001b[0;34m:\u001b[0m\u001b[0;34m\u001b[0m\u001b[0;34m\u001b[0m\u001b[0m\n",
            "\u001b[0;32m/usr/local/lib/python3.10/dist-packages/ipykernel/iostream.py\u001b[0m in \u001b[0;36mschedule\u001b[0;34m(self, f)\u001b[0m\n\u001b[1;32m    201\u001b[0m             \u001b[0mself\u001b[0m\u001b[0;34m.\u001b[0m\u001b[0m_events\u001b[0m\u001b[0;34m.\u001b[0m\u001b[0mappend\u001b[0m\u001b[0;34m(\u001b[0m\u001b[0mf\u001b[0m\u001b[0;34m)\u001b[0m\u001b[0;34m\u001b[0m\u001b[0;34m\u001b[0m\u001b[0m\n\u001b[1;32m    202\u001b[0m             \u001b[0;31m# wake event thread (message content is ignored)\u001b[0m\u001b[0;34m\u001b[0m\u001b[0;34m\u001b[0m\u001b[0m\n\u001b[0;32m--> 203\u001b[0;31m             \u001b[0mself\u001b[0m\u001b[0;34m.\u001b[0m\u001b[0m_event_pipe\u001b[0m\u001b[0;34m.\u001b[0m\u001b[0msend\u001b[0m\u001b[0;34m(\u001b[0m\u001b[0;34mb''\u001b[0m\u001b[0;34m)\u001b[0m\u001b[0;34m\u001b[0m\u001b[0;34m\u001b[0m\u001b[0m\n\u001b[0m\u001b[1;32m    204\u001b[0m         \u001b[0;32melse\u001b[0m\u001b[0;34m:\u001b[0m\u001b[0;34m\u001b[0m\u001b[0;34m\u001b[0m\u001b[0m\n\u001b[1;32m    205\u001b[0m             \u001b[0mf\u001b[0m\u001b[0;34m(\u001b[0m\u001b[0;34m)\u001b[0m\u001b[0;34m\u001b[0m\u001b[0;34m\u001b[0m\u001b[0m\n",
            "\u001b[0;32m/usr/local/lib/python3.10/dist-packages/zmq/sugar/socket.py\u001b[0m in \u001b[0;36msend\u001b[0;34m(self, data, flags, copy, track, routing_id, group)\u001b[0m\n\u001b[1;32m    618\u001b[0m                 )\n\u001b[1;32m    619\u001b[0m             \u001b[0mdata\u001b[0m\u001b[0;34m.\u001b[0m\u001b[0mgroup\u001b[0m \u001b[0;34m=\u001b[0m \u001b[0mgroup\u001b[0m\u001b[0;34m\u001b[0m\u001b[0;34m\u001b[0m\u001b[0m\n\u001b[0;32m--> 620\u001b[0;31m         \u001b[0;32mreturn\u001b[0m \u001b[0msuper\u001b[0m\u001b[0;34m(\u001b[0m\u001b[0;34m)\u001b[0m\u001b[0;34m.\u001b[0m\u001b[0msend\u001b[0m\u001b[0;34m(\u001b[0m\u001b[0mdata\u001b[0m\u001b[0;34m,\u001b[0m \u001b[0mflags\u001b[0m\u001b[0;34m=\u001b[0m\u001b[0mflags\u001b[0m\u001b[0;34m,\u001b[0m \u001b[0mcopy\u001b[0m\u001b[0;34m=\u001b[0m\u001b[0mcopy\u001b[0m\u001b[0;34m,\u001b[0m \u001b[0mtrack\u001b[0m\u001b[0;34m=\u001b[0m\u001b[0mtrack\u001b[0m\u001b[0;34m)\u001b[0m\u001b[0;34m\u001b[0m\u001b[0;34m\u001b[0m\u001b[0m\n\u001b[0m\u001b[1;32m    621\u001b[0m \u001b[0;34m\u001b[0m\u001b[0m\n\u001b[1;32m    622\u001b[0m     def send_multipart(\n",
            "\u001b[0;32mzmq/backend/cython/socket.pyx\u001b[0m in \u001b[0;36mzmq.backend.cython.socket.Socket.send\u001b[0;34m()\u001b[0m\n",
            "\u001b[0;32mzmq/backend/cython/socket.pyx\u001b[0m in \u001b[0;36mzmq.backend.cython.socket.Socket.send\u001b[0;34m()\u001b[0m\n",
            "\u001b[0;32mzmq/backend/cython/socket.pyx\u001b[0m in \u001b[0;36mzmq.backend.cython.socket._send_copy\u001b[0;34m()\u001b[0m\n",
            "\u001b[0;32m/usr/local/lib/python3.10/dist-packages/zmq/backend/cython/checkrc.pxd\u001b[0m in \u001b[0;36mzmq.backend.cython.checkrc._check_rc\u001b[0;34m()\u001b[0m\n",
            "\u001b[0;31mKeyboardInterrupt\u001b[0m: "
          ]
        }
      ],
      "execution_count": 1
    },
    {
      "cell_type": "code",
      "source": [
        "import numpy as np\n",
        "import pandas as pd\n",
        "import matplotlib.pyplot as plt\n",
        "import tensorflow\n",
        "from tensorflow.keras.preprocessing.image import ImageDataGenerator\n",
        "from tensorflow.keras.applications.densenet import DenseNet121\n",
        "from tensorflow.keras.applications.resnet import ResNet50\n",
        "from tensorflow.keras.applications.vgg19 import VGG19\n",
        "from tensorflow.keras.applications.densenet import DenseNet121\n",
        "\n",
        "from tensorflow.keras.layers import Dense, GlobalAveragePooling2D,Flatten,Dropout\n",
        "from tensorflow.keras.models import Model\n",
        "from tensorflow.keras import backend as K\n",
        "from tensorflow.keras.models import Sequential\n",
        "\n",
        "from tensorflow.keras.models import load_model\n",
        "from glob import glob\n",
        "import os\n",
        "from sklearn.model_selection import train_test_split\n",
        "from sklearn.metrics import accuracy_score,classification_report\n",
        "import tensorflow as tf"
      ],
      "metadata": {
        "_uuid": "8f2839f25d086af736a60e9eeb907d3b93b6e0e5",
        "_cell_guid": "b1076dfc-b9ad-4769-8c92-a6c4dae69d19",
        "execution": {
          "iopub.status.busy": "2024-05-23T17:03:02.98587Z",
          "iopub.execute_input": "2024-05-23T17:03:02.986217Z",
          "iopub.status.idle": "2024-05-23T17:03:02.993811Z",
          "shell.execute_reply.started": "2024-05-23T17:03:02.98619Z",
          "shell.execute_reply": "2024-05-23T17:03:02.992608Z"
        },
        "trusted": true,
        "id": "Xrx_h9Y2ag7-"
      },
      "execution_count": null,
      "outputs": []
    },
    {
      "cell_type": "code",
      "source": [
        "entry_df = pd.read_csv(\"../input/data/Data_Entry_2017.csv\")\n",
        "\n",
        "def CreateTargetLabel(x):\n",
        "    if x == \"No Finding\":\n",
        "        return 0\n",
        "    else:\n",
        "        return 1\n",
        "entry_df[\"target\"] = entry_df[\"Finding Labels\"].map(lambda x: CreateTargetLabel(x))\n",
        "df = entry_df[[\"Image Index\",\"target\"]]\n",
        "\n",
        "img_path = glob('/kaggle/input/data/images*/images*/*.png')\n",
        "full_img_paths = {os.path.basename(x): x for x in img_path}\n",
        "df['full_path'] = df['Image Index'].map(full_img_paths.get)\n",
        "df = df.dropna(axis=0)\n",
        "\n",
        "\n",
        "df = df.iloc[:20000]\n",
        "print(df.target.value_counts())"
      ],
      "metadata": {
        "execution": {
          "iopub.status.busy": "2024-05-23T17:02:55.043111Z",
          "iopub.execute_input": "2024-05-23T17:02:55.043458Z",
          "iopub.status.idle": "2024-05-23T17:02:55.961603Z",
          "shell.execute_reply.started": "2024-05-23T17:02:55.043421Z",
          "shell.execute_reply": "2024-05-23T17:02:55.960662Z"
        },
        "trusted": true,
        "id": "bDFUoYoGag7_",
        "outputId": "f45eab54-6be5-4ff4-8ed7-4146535abd95"
      },
      "execution_count": null,
      "outputs": [
        {
          "name": "stdout",
          "text": "target\n0    11716\n1     8284\nName: count, dtype: int64\n",
          "output_type": "stream"
        },
        {
          "name": "stderr",
          "text": "/tmp/ipykernel_34/3393445688.py:13: SettingWithCopyWarning: \nA value is trying to be set on a copy of a slice from a DataFrame.\nTry using .loc[row_indexer,col_indexer] = value instead\n\nSee the caveats in the documentation: https://pandas.pydata.org/pandas-docs/stable/user_guide/indexing.html#returning-a-view-versus-a-copy\n  df['full_path'] = df['Image Index'].map(full_img_paths.get)\n",
          "output_type": "stream"
        }
      ]
    },
    {
      "cell_type": "code",
      "source": [
        "def CreateBalancedDataframe(_df,samples_n=8000):\n",
        "    target_y = _df[_df.target==1].reset_index().iloc[:samples_n]\n",
        "    target_n = _df[_df.target==0].reset_index().iloc[:samples_n]\n",
        "    return pd.concat([target_y,target_n])\n",
        "\n",
        "df = CreateBalancedDataframe(df)\n",
        "print(len(df))\n",
        "print(df.target.value_counts())\n",
        "df[\"target\"] = df[\"target\"].map(lambda x: \"y\" if x==1 else \"n\")"
      ],
      "metadata": {
        "execution": {
          "iopub.status.busy": "2024-05-23T13:30:19.804709Z",
          "iopub.execute_input": "2024-05-23T13:30:19.805564Z",
          "iopub.status.idle": "2024-05-23T13:30:19.829264Z",
          "shell.execute_reply.started": "2024-05-23T13:30:19.805529Z",
          "shell.execute_reply": "2024-05-23T13:30:19.828347Z"
        },
        "trusted": true,
        "id": "_su8FwTFag7_"
      },
      "execution_count": null,
      "outputs": []
    },
    {
      "cell_type": "code",
      "source": [
        "train_set, test_set = train_test_split(df, test_size = 0.2)\n",
        "\n",
        "# quick check to see that the training and test set were split properly\n",
        "print('training set - # of observations: ', len(train_set))\n",
        "print('test set - # of observations): ', len(test_set))\n",
        "print('prior, full data set - # of observations): ', len(df))"
      ],
      "metadata": {
        "execution": {
          "iopub.status.busy": "2024-05-23T13:30:29.608185Z",
          "iopub.execute_input": "2024-05-23T13:30:29.608573Z",
          "iopub.status.idle": "2024-05-23T13:30:29.620798Z",
          "shell.execute_reply.started": "2024-05-23T13:30:29.608544Z",
          "shell.execute_reply": "2024-05-23T13:30:29.619713Z"
        },
        "trusted": true,
        "id": "rQqBeHjRag7_"
      },
      "execution_count": null,
      "outputs": []
    },
    {
      "cell_type": "code",
      "source": [
        "\n",
        "data_gen = ImageDataGenerator(rescale=1/255.0,samplewise_center=True,samplewise_std_normalization= True)\n",
        "\n",
        "train_gen = data_gen.flow_from_dataframe(train_set,batch_size=128,x_col=\"full_path\",y_col=\"target\",target_size=(224,224),class_mode=\"binary\",color_mode=\"rgb\",shuffle=True)\n",
        "test_gen = data_gen.flow_from_dataframe(test_set,batch_size=128,x_col=\"full_path\",y_col=\"target\",target_size=(224,224),class_mode=\"binary\",color_mode=\"rgb\",shuffle=True)"
      ],
      "metadata": {
        "execution": {
          "iopub.status.busy": "2024-05-23T13:30:37.240044Z",
          "iopub.execute_input": "2024-05-23T13:30:37.240437Z",
          "iopub.status.idle": "2024-05-23T13:31:24.263066Z",
          "shell.execute_reply.started": "2024-05-23T13:30:37.240393Z",
          "shell.execute_reply": "2024-05-23T13:31:24.262096Z"
        },
        "trusted": true,
        "id": "frlWjzcpag7_"
      },
      "execution_count": null,
      "outputs": []
    },
    {
      "cell_type": "code",
      "source": [
        "def build_model():\n",
        "    model_1 = ResNet50(weights='imagenet', include_top=False, input_shape=(224, 224, 3))\n",
        "    for layer in model_1.layers:\n",
        "        layer.trainable = False\n",
        "\n",
        "    model_2 = DenseNet121(include_top=False,input_shape=(224,224,3))\n",
        "    for layer in model_2.layers:\n",
        "        layer.trainable=False\n",
        "\n",
        "    input_layer = tf.keras.layers.Input(shape=(224,224, 3))\n",
        "    out1 = model_1(input_layer)\n",
        "    out2 = model_2(input_layer)\n",
        "\n",
        "    fc1 = Flatten()(out1)\n",
        "    fc2 = Flatten()(out2)\n",
        "    fc_concat = tf.keras.layers.Concatenate()([fc1, fc2])\n",
        "    fc3 = Dense(1024,activation=\"relu\")(fc_concat)\n",
        "    drop = Dropout(0.45)(fc3)\n",
        "    fc_final = Dense(512,activation=\"relu\")(drop)\n",
        "\n",
        "    out = Dense(1,activation=\"sigmoid\")(fc_final)\n",
        "    return Model(inputs=input_layer,outputs=out)\n",
        "\n",
        "\n",
        "\n",
        "\n",
        "hybrid_model = build_model()\n",
        "loss = tf.keras.losses.BinaryCrossentropy()\n",
        "hybrid_model.compile(optimizer='adam', loss=loss, metrics=['accuracy'])\n"
      ],
      "metadata": {
        "execution": {
          "iopub.status.busy": "2024-05-23T13:31:35.905384Z",
          "iopub.execute_input": "2024-05-23T13:31:35.906044Z",
          "iopub.status.idle": "2024-05-23T13:31:47.35356Z",
          "shell.execute_reply.started": "2024-05-23T13:31:35.90601Z",
          "shell.execute_reply": "2024-05-23T13:31:47.352787Z"
        },
        "trusted": true,
        "id": "6ndx0Eotag7_"
      },
      "execution_count": null,
      "outputs": []
    },
    {
      "cell_type": "code",
      "source": [
        "hybrid_model.fit(train_gen,validation_data=test_gen,epochs=10,verbose=1,steps_per_epoch=32)"
      ],
      "metadata": {
        "execution": {
          "iopub.status.busy": "2024-05-23T13:31:53.927844Z",
          "iopub.execute_input": "2024-05-23T13:31:53.928207Z",
          "iopub.status.idle": "2024-05-23T13:55:02.683958Z",
          "shell.execute_reply.started": "2024-05-23T13:31:53.928178Z",
          "shell.execute_reply": "2024-05-23T13:55:02.682925Z"
        },
        "trusted": true,
        "id": "83GQabvWag8A"
      },
      "execution_count": null,
      "outputs": []
    },
    {
      "cell_type": "code",
      "source": [
        "hybrid_model.save(\"second.keras\")"
      ],
      "metadata": {
        "execution": {
          "iopub.status.busy": "2024-05-23T16:54:20.922095Z",
          "iopub.execute_input": "2024-05-23T16:54:20.922351Z",
          "iopub.status.idle": "2024-05-23T16:54:21.311126Z",
          "shell.execute_reply.started": "2024-05-23T16:54:20.922326Z",
          "shell.execute_reply": "2024-05-23T16:54:21.309686Z"
        },
        "trusted": true,
        "id": "5yr4LNNeag8A",
        "outputId": "b4f25556-8710-454b-e04f-632b128a676c"
      },
      "execution_count": null,
      "outputs": [
        {
          "traceback": [
            "\u001b[0;31m---------------------------------------------------------------------------\u001b[0m",
            "\u001b[0;31mNameError\u001b[0m                                 Traceback (most recent call last)",
            "Cell \u001b[0;32mIn[1], line 1\u001b[0m\n\u001b[0;32m----> 1\u001b[0m \u001b[43mhybrid_model\u001b[49m\u001b[38;5;241m.\u001b[39msave(\u001b[38;5;124m\"\u001b[39m\u001b[38;5;124msecond.keras\u001b[39m\u001b[38;5;124m\"\u001b[39m)\n",
            "\u001b[0;31mNameError\u001b[0m: name 'hybrid_model' is not defined"
          ],
          "ename": "NameError",
          "evalue": "name 'hybrid_model' is not defined",
          "output_type": "error"
        }
      ]
    }
  ]
}