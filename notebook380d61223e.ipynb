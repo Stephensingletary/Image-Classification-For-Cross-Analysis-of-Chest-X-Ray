{
  "metadata": {
    "kernelspec": {
      "display_name": "Python 3",
      "name": "python3"
    },
    "language_info": {
      "name": "python",
      "version": "3.10.13",
      "mimetype": "text/x-python",
      "codemirror_mode": {
        "name": "ipython",
        "version": 3
      },
      "pygments_lexer": "ipython3",
      "nbconvert_exporter": "python",
      "file_extension": ".py"
    },
    "kaggle": {
      "accelerator": "gpu",
      "dataSources": [
        {
          "sourceId": 18613,
          "sourceType": "datasetVersion",
          "datasetId": 5839
        }
      ],
      "dockerImageVersionId": 30699,
      "isInternetEnabled": true,
      "language": "python",
      "sourceType": "notebook",
      "isGpuEnabled": true
    },
    "colab": {
      "name": "notebook380d61223e",
      "provenance": [],
      "machine_shape": "hm",
      "gpuType": "A100",
      "include_colab_link": true
    },
    "accelerator": "GPU"
  },
  "nbformat_minor": 0,
  "nbformat": 4,
  "cells": [
    {
      "cell_type": "markdown",
      "metadata": {
        "id": "view-in-github",
        "colab_type": "text"
      },
      "source": [
        "<a href=\"https://colab.research.google.com/github/Stephensingletary/Image-Classification-For-Cross-Analysis-of-Chest-X-Ray/blob/Patrick/notebook380d61223e.ipynb\" target=\"_parent\"><img src=\"https://colab.research.google.com/assets/colab-badge.svg\" alt=\"Open In Colab\"/></a>"
      ]
    },
    {
      "source": [
        "\n",
        "# IMPORTANT: RUN THIS CELL IN ORDER TO IMPORT YOUR KAGGLE DATA SOURCES\n",
        "# TO THE CORRECT LOCATION (/kaggle/input) IN YOUR NOTEBOOK,\n",
        "# THEN FEEL FREE TO DELETE THIS CELL.\n",
        "# NOTE: THIS NOTEBOOK ENVIRONMENT DIFFERS FROM KAGGLE'S PYTHON\n",
        "# ENVIRONMENT SO THERE MAY BE MISSING LIBRARIES USED BY YOUR\n",
        "# NOTEBOOK.\n",
        "\n",
        "import os\n",
        "import sys\n",
        "from tempfile import NamedTemporaryFile\n",
        "from urllib.request import urlopen\n",
        "from urllib.parse import unquote, urlparse\n",
        "from urllib.error import HTTPError\n",
        "from zipfile import ZipFile\n",
        "import tarfile\n",
        "import shutil\n",
        "\n",
        "CHUNK_SIZE = 40960\n",
        "DATA_SOURCE_MAPPING = 'data:https%3A%2F%2Fstorage.googleapis.com%2Fkaggle-data-sets%2F5839%2F18613%2Fbundle%2Farchive.zip%3FX-Goog-Algorithm%3DGOOG4-RSA-SHA256%26X-Goog-Credential%3Dgcp-kaggle-com%2540kaggle-161607.iam.gserviceaccount.com%252F20240523%252Fauto%252Fstorage%252Fgoog4_request%26X-Goog-Date%3D20240523T170518Z%26X-Goog-Expires%3D259200%26X-Goog-SignedHeaders%3Dhost%26X-Goog-Signature%3D4b25be70b2d403b00d1d2a2447e2a4425b1a5acf656fc1efead408167ed4849ecf7441c1b162d701e6a538f9b3a1494269abf1d5b66d92c4861e68a53b31ba9da4fee2813d0aa560aea69b7708e8316605fa05cf40e04db5feeb550e87bb156bf8a9fe00736067f43b468b3168562a0defe7b6d05c3c886c4b7902aae6488161bc23100757a6a6a7dd5e51fe7439d12c6078bbd9a579415ccade44170e061d4a5a1c30c34a1fb8a3a134bbafefec1886200595644e4cb601c197cfca447ff4a20fa34c3c4059280ae02dfc10e47f5f103522c5fd925d25ccfdc25322a30aa523b5da3305cc34ec02e99b6ff0d32ffb66fc14faf0217e928d0c7778b71a0b8b1e'\n",
        "\n",
        "KAGGLE_INPUT_PATH='/kaggle/input'\n",
        "KAGGLE_WORKING_PATH='/kaggle/working'\n",
        "KAGGLE_SYMLINK='kaggle'\n",
        "\n",
        "!umount /kaggle/input/ 2> /dev/null\n",
        "shutil.rmtree('/kaggle/input', ignore_errors=True)\n",
        "os.makedirs(KAGGLE_INPUT_PATH, 0o777, exist_ok=True)\n",
        "os.makedirs(KAGGLE_WORKING_PATH, 0o777, exist_ok=True)\n",
        "\n",
        "try:\n",
        "  os.symlink(KAGGLE_INPUT_PATH, os.path.join(\"..\", 'input'), target_is_directory=True)\n",
        "except FileExistsError:\n",
        "  pass\n",
        "try:\n",
        "  os.symlink(KAGGLE_WORKING_PATH, os.path.join(\"..\", 'working'), target_is_directory=True)\n",
        "except FileExistsError:\n",
        "  pass\n",
        "\n",
        "for data_source_mapping in DATA_SOURCE_MAPPING.split(','):\n",
        "    directory, download_url_encoded = data_source_mapping.split(':')\n",
        "    download_url = unquote(download_url_encoded)\n",
        "    filename = urlparse(download_url).path\n",
        "    destination_path = os.path.join(KAGGLE_INPUT_PATH, directory)\n",
        "    try:\n",
        "        with urlopen(download_url) as fileres, NamedTemporaryFile() as tfile:\n",
        "            total_length = fileres.headers['content-length']\n",
        "            print(f'Downloading {directory}, {total_length} bytes compressed')\n",
        "            dl = 0\n",
        "            data = fileres.read(CHUNK_SIZE)\n",
        "            while len(data) > 0:\n",
        "                dl += len(data)\n",
        "                tfile.write(data)\n",
        "                done = int(50 * dl / int(total_length))\n",
        "                sys.stdout.write(f\"\\r[{'=' * done}{' ' * (50-done)}] {dl} bytes downloaded\")\n",
        "                sys.stdout.flush()\n",
        "                data = fileres.read(CHUNK_SIZE)\n",
        "            if filename.endswith('.zip'):\n",
        "              with ZipFile(tfile) as zfile:\n",
        "                zfile.extractall(destination_path)\n",
        "            else:\n",
        "              with tarfile.open(tfile.name) as tarfile:\n",
        "                tarfile.extractall(destination_path)\n",
        "            print(f'\\nDownloaded and uncompressed: {directory}')\n",
        "    except HTTPError as e:\n",
        "        print(f'Failed to load (likely expired) {download_url} to path {destination_path}')\n",
        "        continue\n",
        "    except OSError as e:\n",
        "        print(f'Failed to load {download_url} to path {destination_path}')\n",
        "        continue\n",
        "\n",
        "print('Data source import complete.')\n"
      ],
      "metadata": {
        "id": "BiD1ek4Iu7Zf",
        "outputId": "d64d8c29-d3fc-425b-c7a3-b19935d31e92",
        "colab": {
          "base_uri": "https://localhost:8080/"
        }
      },
      "cell_type": "code",
      "outputs": [
        {
          "output_type": "stream",
          "name": "stdout",
          "text": [
            "Downloading data, 45096150231 bytes compressed\n",
            "[==================================================] 45096150231 bytes downloaded\n",
            "Downloaded and uncompressed: data\n",
            "Data source import complete.\n"
          ]
        }
      ],
      "execution_count": 1
    },
    {
      "cell_type": "code",
      "source": [
        "import numpy as np\n",
        "import pandas as pd\n",
        "import matplotlib.pyplot as plt\n",
        "import tensorflow\n",
        "from tensorflow.keras.preprocessing.image import ImageDataGenerator\n",
        "from tensorflow.keras.applications.densenet import DenseNet121\n",
        "from tensorflow.keras.applications.resnet import ResNet50\n",
        "from tensorflow.keras.applications.vgg19 import VGG19\n",
        "from tensorflow.keras.applications.densenet import DenseNet121\n",
        "\n",
        "from tensorflow.keras.layers import Dense, GlobalAveragePooling2D,Flatten,Dropout\n",
        "from tensorflow.keras.models import Model\n",
        "from tensorflow.keras import backend as K\n",
        "from tensorflow.keras.models import Sequential\n",
        "\n",
        "from tensorflow.keras.models import load_model\n",
        "from glob import glob\n",
        "import os\n",
        "from sklearn.model_selection import train_test_split\n",
        "from sklearn.metrics import accuracy_score,classification_report\n",
        "import tensorflow as tf"
      ],
      "metadata": {
        "_uuid": "8f2839f25d086af736a60e9eeb907d3b93b6e0e5",
        "_cell_guid": "b1076dfc-b9ad-4769-8c92-a6c4dae69d19",
        "execution": {
          "iopub.status.busy": "2024-05-23T17:03:02.98587Z",
          "iopub.execute_input": "2024-05-23T17:03:02.986217Z",
          "iopub.status.idle": "2024-05-23T17:03:02.993811Z",
          "shell.execute_reply.started": "2024-05-23T17:03:02.98619Z",
          "shell.execute_reply": "2024-05-23T17:03:02.992608Z"
        },
        "trusted": true,
        "id": "HWekV3MEu7Zg"
      },
      "execution_count": 2,
      "outputs": []
    },
    {
      "cell_type": "code",
      "source": [
        "entry_df = pd.read_csv(\"../input/data/Data_Entry_2017.csv\")\n",
        "\n",
        "def CreateTargetLabel(x):\n",
        "    if x == \"No Finding\":\n",
        "        return 0\n",
        "    else:\n",
        "        return 1\n",
        "entry_df[\"target\"] = entry_df[\"Finding Labels\"].map(lambda x: CreateTargetLabel(x))\n",
        "df = entry_df[[\"Image Index\",\"target\"]]\n",
        "\n",
        "img_path = glob('/kaggle/input/data/images*/images*/*.png')\n",
        "full_img_paths = {os.path.basename(x): x for x in img_path}\n",
        "df['full_path'] = df['Image Index'].map(full_img_paths.get)\n",
        "df = df.dropna(axis=0)\n",
        "\n",
        "\n",
        "df = df.iloc[:20000]\n",
        "print(df.target.value_counts())"
      ],
      "metadata": {
        "execution": {
          "iopub.status.busy": "2024-05-23T17:02:55.043111Z",
          "iopub.execute_input": "2024-05-23T17:02:55.043458Z",
          "iopub.status.idle": "2024-05-23T17:02:55.961603Z",
          "shell.execute_reply.started": "2024-05-23T17:02:55.043421Z",
          "shell.execute_reply": "2024-05-23T17:02:55.960662Z"
        },
        "trusted": true,
        "id": "brdmsuCOu7Zg",
        "outputId": "fed5d1e3-064e-46b2-9151-b75f8c32334b",
        "colab": {
          "base_uri": "https://localhost:8080/"
        }
      },
      "execution_count": 3,
      "outputs": [
        {
          "output_type": "stream",
          "name": "stdout",
          "text": [
            "target\n",
            "0    11716\n",
            "1     8284\n",
            "Name: count, dtype: int64\n"
          ]
        },
        {
          "output_type": "stream",
          "name": "stderr",
          "text": [
            "<ipython-input-3-00c86f50c398>:13: SettingWithCopyWarning: \n",
            "A value is trying to be set on a copy of a slice from a DataFrame.\n",
            "Try using .loc[row_indexer,col_indexer] = value instead\n",
            "\n",
            "See the caveats in the documentation: https://pandas.pydata.org/pandas-docs/stable/user_guide/indexing.html#returning-a-view-versus-a-copy\n",
            "  df['full_path'] = df['Image Index'].map(full_img_paths.get)\n"
          ]
        }
      ]
    },
    {
      "cell_type": "code",
      "source": [
        "def CreateBalancedDataframe(_df,samples_n=8000):\n",
        "    target_y = _df[_df.target==1].reset_index().iloc[:samples_n]\n",
        "    target_n = _df[_df.target==0].reset_index().iloc[:samples_n]\n",
        "    return pd.concat([target_y,target_n])\n",
        "\n",
        "df = CreateBalancedDataframe(df)\n",
        "print(len(df))\n",
        "print(df.target.value_counts())\n",
        "df[\"target\"] = df[\"target\"].map(lambda x: \"y\" if x==1 else \"n\")"
      ],
      "metadata": {
        "execution": {
          "iopub.status.busy": "2024-05-23T13:30:19.804709Z",
          "iopub.execute_input": "2024-05-23T13:30:19.805564Z",
          "iopub.status.idle": "2024-05-23T13:30:19.829264Z",
          "shell.execute_reply.started": "2024-05-23T13:30:19.805529Z",
          "shell.execute_reply": "2024-05-23T13:30:19.828347Z"
        },
        "trusted": true,
        "id": "h3ZCxVDou7Zi",
        "outputId": "9a21e713-eeac-4f25-ba26-4d9d5b81e2a8",
        "colab": {
          "base_uri": "https://localhost:8080/"
        }
      },
      "execution_count": 4,
      "outputs": [
        {
          "output_type": "stream",
          "name": "stdout",
          "text": [
            "16000\n",
            "target\n",
            "1    8000\n",
            "0    8000\n",
            "Name: count, dtype: int64\n"
          ]
        }
      ]
    },
    {
      "cell_type": "code",
      "source": [
        "train_set, test_set = train_test_split(df, test_size = 0.2)\n",
        "\n",
        "# quick check to see that the training and test set were split properly\n",
        "print('training set - # of observations: ', len(train_set))\n",
        "print('test set - # of observations): ', len(test_set))\n",
        "print('prior, full data set - # of observations): ', len(df))"
      ],
      "metadata": {
        "execution": {
          "iopub.status.busy": "2024-05-23T13:30:29.608185Z",
          "iopub.execute_input": "2024-05-23T13:30:29.608573Z",
          "iopub.status.idle": "2024-05-23T13:30:29.620798Z",
          "shell.execute_reply.started": "2024-05-23T13:30:29.608544Z",
          "shell.execute_reply": "2024-05-23T13:30:29.619713Z"
        },
        "trusted": true,
        "id": "cBIlLRReu7Zi",
        "outputId": "73757a46-fab7-42ae-b0a8-eb18339ce552",
        "colab": {
          "base_uri": "https://localhost:8080/"
        }
      },
      "execution_count": 5,
      "outputs": [
        {
          "output_type": "stream",
          "name": "stdout",
          "text": [
            "training set - # of observations:  12800\n",
            "test set - # of observations):  3200\n",
            "prior, full data set - # of observations):  16000\n"
          ]
        }
      ]
    },
    {
      "cell_type": "code",
      "source": [
        "\n",
        "data_gen = ImageDataGenerator(rescale=1/255.0,samplewise_center=True,samplewise_std_normalization= True)\n",
        "\n",
        "train_gen = data_gen.flow_from_dataframe(train_set,batch_size=128,x_col=\"full_path\",y_col=\"target\",target_size=(224,224),class_mode=\"binary\",color_mode=\"rgb\",shuffle=True)\n",
        "test_gen = data_gen.flow_from_dataframe(test_set,batch_size=128,x_col=\"full_path\",y_col=\"target\",target_size=(224,224),class_mode=\"binary\",color_mode=\"rgb\",shuffle=True)"
      ],
      "metadata": {
        "execution": {
          "iopub.status.busy": "2024-05-23T13:30:37.240044Z",
          "iopub.execute_input": "2024-05-23T13:30:37.240437Z",
          "iopub.status.idle": "2024-05-23T13:31:24.263066Z",
          "shell.execute_reply.started": "2024-05-23T13:30:37.240393Z",
          "shell.execute_reply": "2024-05-23T13:31:24.262096Z"
        },
        "trusted": true,
        "id": "1VMio9sPu7Zi",
        "outputId": "033b7f60-60ef-4e3d-9208-d543492e5e19",
        "colab": {
          "base_uri": "https://localhost:8080/"
        }
      },
      "execution_count": 6,
      "outputs": [
        {
          "output_type": "stream",
          "name": "stdout",
          "text": [
            "Found 12800 validated image filenames belonging to 2 classes.\n",
            "Found 3200 validated image filenames belonging to 2 classes.\n"
          ]
        }
      ]
    },
    {
      "cell_type": "code",
      "source": [
        "def build_model():\n",
        "    model_1 = ResNet50(weights='imagenet', include_top=False, input_shape=(224, 224, 3))\n",
        "    for layer in model_1.layers:\n",
        "        layer.trainable = False\n",
        "\n",
        "    model_2 = DenseNet121(include_top=False,input_shape=(224,224,3))\n",
        "    for layer in model_2.layers:\n",
        "        layer.trainable=False\n",
        "\n",
        "    input_layer = tf.keras.layers.Input(shape=(224,224, 3))\n",
        "    out1 = model_1(input_layer)\n",
        "    out2 = model_2(input_layer)\n",
        "\n",
        "    fc1 = Flatten()(out1)\n",
        "    fc2 = Flatten()(out2)\n",
        "    fc_concat = tf.keras.layers.Concatenate()([fc1, fc2])\n",
        "    fc3 = Dense(1024,activation=\"relu\")(fc_concat)\n",
        "    drop = Dropout(0.45)(fc3)\n",
        "    fc_final = Dense(512,activation=\"relu\")(drop)\n",
        "\n",
        "    out = Dense(1,activation=\"sigmoid\")(fc_final)\n",
        "    return Model(inputs=input_layer,outputs=out)\n",
        "\n",
        "\n",
        "\n",
        "\n",
        "hybrid_model = build_model()\n",
        "loss = tf.keras.losses.BinaryCrossentropy()\n",
        "hybrid_model.compile(optimizer='adam', loss=loss, metrics=['accuracy'])\n"
      ],
      "metadata": {
        "execution": {
          "iopub.status.busy": "2024-05-23T13:31:35.905384Z",
          "iopub.execute_input": "2024-05-23T13:31:35.906044Z",
          "iopub.status.idle": "2024-05-23T13:31:47.35356Z",
          "shell.execute_reply.started": "2024-05-23T13:31:35.90601Z",
          "shell.execute_reply": "2024-05-23T13:31:47.352787Z"
        },
        "trusted": true,
        "id": "4XNwaiVJu7Zi",
        "outputId": "429c4a0b-925e-4d4a-a5ab-c04bbf717552",
        "colab": {
          "base_uri": "https://localhost:8080/"
        }
      },
      "execution_count": 7,
      "outputs": [
        {
          "output_type": "stream",
          "name": "stdout",
          "text": [
            "Downloading data from https://storage.googleapis.com/tensorflow/keras-applications/resnet/resnet50_weights_tf_dim_ordering_tf_kernels_notop.h5\n",
            "94765736/94765736 [==============================] - 0s 0us/step\n",
            "Downloading data from https://storage.googleapis.com/tensorflow/keras-applications/densenet/densenet121_weights_tf_dim_ordering_tf_kernels_notop.h5\n",
            "29084464/29084464 [==============================] - 0s 0us/step\n"
          ]
        }
      ]
    },
    {
      "cell_type": "code",
      "source": [
        "hybrid_model.fit(train_gen,validation_data=test_gen,epochs=10,verbose=1,steps_per_epoch=32,validation_steps=16)"
      ],
      "metadata": {
        "execution": {
          "iopub.status.busy": "2024-05-23T13:31:53.927844Z",
          "iopub.execute_input": "2024-05-23T13:31:53.928207Z",
          "iopub.status.idle": "2024-05-23T13:55:02.683958Z",
          "shell.execute_reply.started": "2024-05-23T13:31:53.928178Z",
          "shell.execute_reply": "2024-05-23T13:55:02.682925Z"
        },
        "trusted": true,
        "id": "Y10Pqn3Nu7Zj",
        "outputId": "0a841dbf-a0ab-42b5-f4fa-c675f409c36f",
        "colab": {
          "base_uri": "https://localhost:8080/"
        }
      },
      "execution_count": 8,
      "outputs": [
        {
          "output_type": "stream",
          "name": "stdout",
          "text": [
            "Epoch 1/10\n",
            "32/32 [==============================] - 134s 4s/step - loss: 18.5947 - accuracy: 0.4980 - val_loss: 1.0740 - val_accuracy: 0.4927\n",
            "Epoch 2/10\n",
            "32/32 [==============================] - 108s 3s/step - loss: 1.2218 - accuracy: 0.5376 - val_loss: 0.6636 - val_accuracy: 0.6113\n",
            "Epoch 3/10\n",
            "32/32 [==============================] - 104s 3s/step - loss: 0.7230 - accuracy: 0.5767 - val_loss: 0.6576 - val_accuracy: 0.6221\n",
            "Epoch 4/10\n",
            "32/32 [==============================] - 101s 3s/step - loss: 0.6406 - accuracy: 0.6382 - val_loss: 0.6477 - val_accuracy: 0.6309\n",
            "Epoch 5/10\n",
            "32/32 [==============================] - 101s 3s/step - loss: 0.6588 - accuracy: 0.6211 - val_loss: 0.6652 - val_accuracy: 0.6030\n",
            "Epoch 6/10\n",
            "32/32 [==============================] - 100s 3s/step - loss: 0.6534 - accuracy: 0.6160 - val_loss: 0.6487 - val_accuracy: 0.6470\n",
            "Epoch 7/10\n",
            "32/32 [==============================] - 100s 3s/step - loss: 0.6470 - accuracy: 0.6279 - val_loss: 0.6355 - val_accuracy: 0.6602\n",
            "Epoch 8/10\n",
            "32/32 [==============================] - 100s 3s/step - loss: 0.6351 - accuracy: 0.6465 - val_loss: 0.6377 - val_accuracy: 0.6504\n",
            "Epoch 9/10\n",
            "32/32 [==============================] - 99s 3s/step - loss: 0.6330 - accuracy: 0.6338 - val_loss: 0.6328 - val_accuracy: 0.6670\n",
            "Epoch 10/10\n",
            "32/32 [==============================] - 99s 3s/step - loss: 0.6229 - accuracy: 0.6497 - val_loss: 0.6511 - val_accuracy: 0.6040\n"
          ]
        },
        {
          "output_type": "execute_result",
          "data": {
            "text/plain": [
              "<keras.src.callbacks.History at 0x7ee1e47f7010>"
            ]
          },
          "metadata": {},
          "execution_count": 8
        }
      ]
    }
  ]
}